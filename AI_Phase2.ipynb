{
  "cells": [
    {
      "cell_type": "markdown",
      "source": [
        "# **This is an application on Reinforcement Learning(RL) of type Active search using Q-value iteration.**"
      ],
      "metadata": {
        "id": "c2946I24JW2S"
      }
    },
    {
      "cell_type": "markdown",
      "source": [
        " This is the Zewail City agent who is responsible for transferring 4 objects from the Hemly building to Nano Building or One stop Shop and transferring 4 objects from the Academic also.\n",
        " It is an active search."
      ],
      "metadata": {
        "id": "hWSdu1tcJr6l"
      }
    },
    {
      "cell_type": "markdown",
      "source": [
        "#Importing Needed Libraries\n"
      ],
      "metadata": {
        "id": "HhdLX-o6JPwG"
      }
    },
    {
      "cell_type": "code",
      "execution_count": null,
      "metadata": {
        "id": "mJKcoYkBN74d"
      },
      "outputs": [],
      "source": [
        "from skimage import io\n",
        "from PIL import Image\n",
        "import numpy as np\n",
        "import cv2\n",
        "from google.colab.patches import cv2_imshow\n",
        "import pandas as pd  \n",
        "from math import inf\n",
        "from time import time\n",
        "from itertools import count\n",
        "from random import random"
      ]
    },
    {
      "cell_type": "markdown",
      "metadata": {
        "id": "_kXbiRUtA21G"
      },
      "source": [
        "## Reading file that represent Zewail City Map by its available roads and crossroads:\n",
        "\n"
      ]
    },
    {
      "cell_type": "code",
      "execution_count": null,
      "metadata": {
        "id": "sVyMTlEn-rhU"
      },
      "outputs": [],
      "source": [
        "map_dict = {}\n",
        "with open(\"/content/ZewailCity_Map.txt\") as data_file:\n",
        "    for line in data_file:\n",
        "       line = line.replace('\\n','')\n",
        "       key,val=line.split('-')\n",
        "       list_values=val.split(',')\n",
        "       end=len(list_values)\n",
        "       value=[]\n",
        "       for i in range(0,end,2):\n",
        "          l=[]\n",
        "          l.append(list_values[i])\n",
        "          l.append(list_values[i+1])\n",
        "          value.append(l)\n",
        "       map_dict[key] = value"
      ]
    },
    {
      "cell_type": "markdown",
      "metadata": {
        "id": "MHBgqOrHo0bX"
      },
      "source": [
        "## Function that represents the Q values as a Dataframe:"
      ]
    },
    {
      "cell_type": "code",
      "execution_count": null,
      "metadata": {
        "id": "CEPfs7rmVJG8"
      },
      "outputs": [],
      "source": [
        "def Q_values_dataframe(q_dict,filename):\n",
        "\n",
        "  df = pd.DataFrame()\n",
        "\n",
        "  all_states=[]\n",
        "\n",
        "  for key in q_dict:\n",
        "    all_states.append(key[0])\n",
        "    \n",
        "  df[\"states/actions\"] = all_states\n",
        "  Q_df = df.drop_duplicates(ignore_index=True)\n",
        "\n",
        "\n",
        "  for key in q_dict:\n",
        "      for index in range(Q_df.shape[0]):\n",
        "         if Q_df[\"states/actions\"][index] == key[0]:\n",
        "           Q_df.at[index,key[1]] = q_dict[key]\n",
        "\n",
        "\n",
        "  Q_df.to_csv(filename)\n",
        "  \n",
        "\n",
        "\n",
        "\n"
      ]
    },
    {
      "cell_type": "markdown",
      "metadata": {
        "id": "jvuLSRhVtMOI"
      },
      "source": [
        "## Environment Formulation\n",
        "\n",
        "We formulate an environment in a similar way to decision processes _without_ a way to know the transition model.\n"
      ]
    },
    {
      "cell_type": "code",
      "execution_count": null,
      "metadata": {
        "id": "sfcMvWv2BgGA"
      },
      "outputs": [],
      "source": [
        "class Environment:\n",
        "    '''\n",
        "    Abstract base class for an (interactive) environment formulation.\n",
        "    It declares the expected methods to be used to solve it.\n",
        "    All the methods declared are just placeholders that throw errors if not overriden by child \"concrete\" classes!\n",
        "    '''\n",
        "    \n",
        "    def __init__(self):\n",
        "        '''Constructor that initializes the problem. Typically used to setup the initial state.'''\n",
        "        self.state = None\n",
        "    \n",
        "    def actions(self):\n",
        "        '''Returns an iterable with the applicable actions to the current environment state.'''\n",
        "        \n",
        "        raise NotImplementedError\n",
        "    \n",
        "    def apply(self, action):\n",
        "        '''Applies the action to the current state of the environment and returns the new state from applying the given action to the current environment state; not necessarily deterministic.'''\n",
        "        raise NotImplementedError\n"
      ]
    },
    {
      "cell_type": "markdown",
      "metadata": {
        "id": "bsM06zKvgIF3"
      },
      "source": [
        "Combining Q-values with TD learning yields an iterative technique that does not need a transition model in learning nor in decision making!\n",
        "\n",
        "$$Q_{i+1}(s,a) = Q_i(s,a) + \\alpha (r_s + \\gamma \\times \\max_{a'} Q_i(s',a') - Q_i(s,a))$$"
      ]
    },
    {
      "cell_type": "code",
      "execution_count": null,
      "metadata": {
        "id": "dUm4RIxQ93Y-"
      },
      "outputs": [],
      "source": [
        "def q_learning(env, q={}, n={}, f=lambda q, n: (q+1)/(n+1), alpha=lambda n:0.5, error=1e-6, verbose=False):\n",
        "    '''Q-learning implementation that trains on an environment till no more actions can be taken'''\n",
        "    all_states=[]\n",
        "\n",
        "    while env.state is not None:\n",
        "        \n",
        "        state = env.state\n",
        "        action = max(env.actions(),\n",
        "                     key=lambda next_action: f(q.get((state, next_action), 0), n.get((state, next_action), 0)))\n",
        "        n[(state, action)] = n.get((state, action), 0) + 1\n",
        "        reward = env.apply(action)\n",
        "        all_states.append(state)\n",
        "\n",
        "        q[(state, action)] = q.get((state, action), 0) \\\n",
        "                           + alpha(n[state, action]) \\\n",
        "                           * (reward\n",
        "                              + env.discount * max((q.get((env.state, next_action), 0) for next_action in env.actions()), default=0)\n",
        "                              - q.get((state, action), 0))\n",
        "                      \n",
        "    return q, n,all_states"
      ]
    },
    {
      "cell_type": "code",
      "execution_count": null,
      "metadata": {
        "id": "euwQv9cygJ_o"
      },
      "outputs": [],
      "source": [
        "def simulate(env_ctor,Int_check=False,intermediate_q_num=100, n_iterations=inf, duration=inf, **q_learning_params,):\n",
        "    '''A helper function to train for a fixed number of iterations or fixed time'''\n",
        "    for param in ('q', 'n'): q_learning_params[param] = q_learning_params.get(param, {})\n",
        "    start_time = time()\n",
        "    i = count()\n",
        "    s=intermediate_q_num\n",
        "    while time() < start_time + duration and next(i) < n_iterations:\n",
        "        env = env_ctor()\n",
        "        q, n ,all_states= q_learning(env, **q_learning_params)\n",
        "        s=s-1\n",
        "        if s==0 and Int_check==True:\n",
        "           Q_values_dataframe(q,'intermediate_q.csv')\n",
        "    return q_learning_params['q'], q_learning_params['n'],all_states"
      ]
    },
    {
      "cell_type": "markdown",
      "metadata": {
        "id": "9laYlo9xODoQ"
      },
      "source": [
        "## Agent Searching in ZC:\n",
        "state=(cross_road,carry or not (Bool),NB,HB,AB,OSB)\n",
        "\n",
        "\n",
        "*   cross_road-> that the agent is at\n",
        "*   carry or not-> state of the agent \n",
        "*   NB-> number of items in Nano Building\n",
        "*   HB-> number of items in Helmy Building\n",
        "*   AB -> number of items in Academic Building\n",
        "*   OSB-> number of items in One stop shop\n",
        "\n",
        "\n",
        "\n",
        "\n"
      ]
    },
    {
      "cell_type": "code",
      "execution_count": null,
      "metadata": {
        "id": "EuLFnzjR1ROR"
      },
      "outputs": [],
      "source": [
        "from random import choice, randrange\n",
        "\n",
        "class ZC_Agent(Environment):\n",
        "    '''Dynamic Zewail City Agent who transfer objects from building to another'''\n",
        "\n",
        "    def __init__(self,map_dict,max_reward,inter_reward,discount,limit):\n",
        "        self.state = ('MG',False,4,4,0,0)\n",
        "        self.map_dict = map_dict\n",
        "        self.max_reward = max_reward\n",
        "        self.inter_reward=inter_reward\n",
        "        self.discount = discount\n",
        "        self.limit= limit\n",
        "\n",
        "    # function actions return all possible actions from current state\n",
        "    def actions(self):\n",
        "        if self.state is None: return []\n",
        "        values=self.map_dict[self.state[0]]\n",
        "        actions=[]\n",
        "       \n",
        "        if ((self.state[0]=='NB') and (self.state[1]==False) and (self.state[2] in set([1, 2 ,3, 4]))): return ['take'] #Nano Building\n",
        "        if ((self.state[0]=='HB') and (self.state[1]==False) and (self.state[3] in set([1, 2, 3, 4]))): return ['take'] # Helmy Building\n",
        "        if ((self.state[0]=='AB') and (self.state[1]==True) and (self.state[4] in set([0, 1, 2, 3]))): return ['drop']  # Academic Building\n",
        "        if ((self.state[0]=='OSB') and (self.state[1]==True) and (self.state[5] in set([0, 1, 2, 3]))): return ['drop'] # One stop Shop Building\n",
        "        for i in range(1,len(values)):\n",
        "          action=values[i]\n",
        "          actions.append(action[0])\n",
        "        return actions\n",
        "    # Function apply that take a state and action, it returns reward and upate state\n",
        "    def apply(self, action):\n",
        "      state_list = list(self.state)\n",
        "      self.limit= self.limit-1\n",
        "\n",
        "      \n",
        "      if (self.state[0]=='AB') and (self.state[1]==False) and (self.state[2] == 0 ) and (self.state[3] == 0 ) and (self.state[4] == 4 ) and (self.state[5] == 4):\n",
        "        self.state=None\n",
        "        return self.max_reward\n",
        "\n",
        "      elif (self.state[0]=='OSB') and (self.state[1]==False) and (self.state[2] == 0 ) and (self.state[3] == 0 ) and (self.state[4] == 4 ) and (self.state[5] == 4):\n",
        "        self.state=None\n",
        "        return self.max_reward\n",
        "\n",
        "      elif ( self.limit == 0 ):\n",
        "         self.state=None\n",
        "         return -self.max_reward\n",
        "\n",
        "        \n",
        "      elif ((state_list[0]=='NB') and (action=='take')): \n",
        "        #update state\n",
        "        state_list[1]=True \n",
        "        state_list[2]=state_list[2]-1\n",
        "        self.state=tuple(state_list)\n",
        "        return self.inter_reward\n",
        "\n",
        "      elif ((state_list[0]=='HB') and (action=='take')): \n",
        "        #update state\n",
        "        state_list[1]=True\n",
        "        state_list[3]=state_list[3]-1\n",
        "        self.state=tuple(state_list)\n",
        "        return self.inter_reward\n",
        "\n",
        "      elif ((state_list[0]=='AB') and (action=='drop')):\n",
        "         #update state\n",
        "         state_list[1]=False\n",
        "         state_list[4]=state_list[4]+1\n",
        "         self.state=tuple(state_list)\n",
        "         return self.inter_reward\n",
        "\n",
        "      elif ((state_list[0]=='OSB') and (action=='drop')): \n",
        "        state_list[1]=False\n",
        "        state_list[5]=state_list[5]+1\n",
        "        self.state=tuple(state_list)\n",
        "        return self.inter_reward\n",
        "        ## other Cases when Action is Road\n",
        "\n",
        "      else:\n",
        "        available_crossroads=self.map_dict[state_list[0]]\n",
        "        for i in range(1,len(available_crossroads)):\n",
        "          crossroad=available_crossroads[i]\n",
        "          if crossroad[0]==action:\n",
        "            state_list[0]= crossroad[1]  # crossroad[1] is crossroad\n",
        "            self.state=tuple(state_list)\n",
        "        return -1\n",
        "\n",
        "  \n"
      ]
    },
    {
      "cell_type": "markdown",
      "metadata": {
        "id": "ZqvO8c-pNDpR"
      },
      "source": [
        "# Bonus"
      ]
    },
    {
      "cell_type": "code",
      "execution_count": null,
      "metadata": {
        "id": "Ufi6g7aHOiLs"
      },
      "outputs": [],
      "source": [
        "d = {'MG':[(160, 57), 30],\n",
        "'CR1':[(200, 120), 18],\n",
        "'CR9':[(360, 200), 18],\n",
        "'CR7':[(390, 150), 18],\n",
        "'OSB':[(464, 140), 18],\n",
        "'CR11':[(380, 266), 18],\n",
        "'OSB1':[(447, 240), 18],\n",
        "'NB':[(493, 240), 18],\n",
        "'NB1':[(540, 240), 18],\n",
        "'CR21':[(740, 340), 18],\n",
        "'C':[(670, 750), 18],\n",
        "'DCR':[(780, 490), 18],\n",
        "'CR24':[(690, 480), 18],\n",
        "'E':[(595, 455), 30],\n",
        "'D':[(720, 560), 30],\n",
        "'CR23':[(480, 415), 18],\n",
        "'NB2':[(500, 320), 30],\n",
        "'AB':[(455, 485), 18],\n",
        "'HB1':[(300, 460), 30],\n",
        "'ADB':[(325, 295), 18],\n",
        "'HB':[(240, 420), 18],\n",
        "'HP':[(220, 475), 18],\n",
        "'B':[(435, 585), 18],\n",
        "'HG':[(225, 545), 18],\n",
        "'CR27':[(275, 695), 18],\n",
        "'SB':[(395, 780), 18],\n",
        "'ADB1':[(390, 445), 18]}"
      ]
    },
    {
      "cell_type": "code",
      "execution_count": null,
      "metadata": {
        "id": "UtCgug1wUMTY"
      },
      "outputs": [],
      "source": [
        "def make_video(filename,dsds,d):\n",
        "  '''\n",
        "  This function convert a vector of images to a video\n",
        "  inputs: 1. filename: file name of the video wanted to be created\n",
        "          2. images: vector of images wanted to collected as a video\n",
        "  output: there is no output, but a video created\n",
        "  '''\n",
        "  radius = 10\n",
        "  images = []\n",
        "  for i in range(len(dsds)):\n",
        "    if dsds[i][1]==False: color = (255, 0, 0)\n",
        "    else: color = (0,200,0)\n",
        "    path = r'/content/Whats PM.jpeg'\n",
        "    image = cv2.imread(path)\n",
        "    image = cv2.circle(image, d[dsds[i][0]][0], radius, color, d[dsds[i][0]][1])\n",
        "    # Nano objects\n",
        "    if dsds[i][2]>=1: \n",
        "      image = cv2.circle(image, ((470, 330)), 5, (0,200,0), 7)\n",
        "    if dsds[i][2]>=2:\n",
        "      image = cv2.circle(image, ((465, 350)), 5, (0,200,0), 7)\n",
        "    if dsds[i][2]>=3:\n",
        "      image = cv2.circle(image, ((470, 310)), 5, (0,200,0), 7)\n",
        "    if dsds[i][2]==4:\n",
        "      image = cv2.circle(image, ((475, 290)), 5, (0,200,0), 7)\n",
        "    # Helmy objects\n",
        "    if dsds[i][3]>=1: \n",
        "      image = cv2.circle(image, ((260, 430)), 5, (0,200,0), 7)\n",
        "    if dsds[i][3]>=2: \n",
        "      image = cv2.circle(image, ((280, 435)), 5, (0,200,0), 7)\n",
        "    if dsds[i][3]>=3:\n",
        "      image = cv2.circle(image, ((300, 435)), 5, (0,200,0), 7)\n",
        "    if dsds[i][3]==4:\n",
        "      image = cv2.circle(image, ((320, 440)), 5, (0,200,0), 7)\n",
        "    # Academic objects\n",
        "    if dsds[i][4]>=1: \n",
        "      image = cv2.circle(image, ((445, 540)), 5, (0,200,0), 7)\n",
        "    if dsds[i][4]>=2: \n",
        "      image = cv2.circle(image, ((465, 520)), 5, (0,200,0), 7)\n",
        "    if dsds[i][4]>=3:\n",
        "      image = cv2.circle(image, ((485, 500)), 5, (0,200,0), 7)\n",
        "    if dsds[i][4]==4:\n",
        "      image = cv2.circle(image, ((505, 480)), 5, (0,200,0), 7)\n",
        "    # One stop shop objects\n",
        "    if dsds[i][5]>=1: \n",
        "      image = cv2.circle(image, ((420, 180)), 5, (0,200,0), 7)\n",
        "    if dsds[i][5]>=2: \n",
        "      image = cv2.circle(image, ((430, 195)), 5, (0,200,0), 7)\n",
        "    if dsds[i][5]>=3:\n",
        "      image = cv2.circle(image, ((440, 210)), 5, (0,200,0), 7)\n",
        "    if dsds[i][5]==4:\n",
        "      image = cv2.circle(image, ((455, 225)), 5, (0,200,0), 7)\n",
        "    for _ in range(10):\n",
        "      images.append(image)\n",
        "  \n",
        "  #getting images dimentions\n",
        "  height, width, d = images[0].shape\n",
        " \n",
        "  size = (width, height)\n",
        "  #setting the function of the video\n",
        "  out = cv2.VideoWriter(filename,cv2.VideoWriter_fourcc(*'mp4v'), 25, size)\n",
        "\n",
        "  #looping into images to create the video\n",
        "  for i in range(len(images)):\n",
        "  \n",
        "    out.write(images[i].astype(np.uint8))\n",
        "  #creating the video\n",
        "  out.release()"
      ]
    },
    {
      "cell_type": "markdown",
      "metadata": {
        "id": "El62akzYPtrc"
      },
      "source": [
        "## Exploring Q-Learning Simulation:"
      ]
    },
    {
      "cell_type": "code",
      "execution_count": 19,
      "metadata": {
        "colab": {
          "base_uri": "https://localhost:8080/"
        },
        "id": "sxxx8GY4DptI",
        "outputId": "e12809b6-80df-4210-c192-a4eac7363560"
      },
      "outputs": [
        {
          "output_type": "stream",
          "name": "stdout",
          "text": [
            "Learned Q values: {(('MG', False, 4, 4, 0, 0), 'R5'): -0.29608411774635335, (('CR1', False, 4, 4, 0, 0), 'R5'): -1.1172963994789125, (('CR1', False, 4, 4, 0, 0), 'R1'): 2.594965209960937, (('ADB', False, 4, 4, 0, 0), 'R25'): -0.849921875, (('CR11', False, 4, 4, 0, 0), 'R49'): -1.16259375, (('CR9', False, 4, 4, 0, 0), 'R48'): -1.10625, (('CR7', False, 4, 4, 0, 0), 'R48'): -1.03625, (('CR9', False, 4, 4, 0, 0), 'R49'): -0.963125, (('CR11', False, 4, 4, 0, 0), 'R26'): -0.20625000000000002, (('OSB', False, 4, 4, 0, 0), 'R44'): -0.8625, (('CR7', False, 4, 4, 0, 0), 'R44'): -0.3875, (('OSB', False, 4, 4, 0, 0), 'R50'): -0.75, (('CR21', False, 4, 4, 0, 0), 'R29'): -0.5, (('NB', False, 4, 4, 0, 0), 'take'): 44.2, (('NB', True, 3, 4, 0, 0), 'R27'): 3.0, (('OSB', True, 3, 4, 0, 0), 'drop'): 44.2375, (('OSB', False, 3, 4, 0, 1), 'R44'): -0.825, (('CR7', False, 3, 4, 0, 1), 'R48'): -0.825, (('CR9', False, 3, 4, 0, 1), 'R48'): -0.825, (('CR7', False, 3, 4, 0, 1), 'R44'): -0.2625, (('OSB', False, 3, 4, 0, 1), 'R50'): -0.75, (('CR21', False, 3, 4, 0, 1), 'R29'): -0.5, (('NB', False, 3, 4, 0, 1), 'take'): 44.2, (('NB', True, 2, 4, 0, 1), 'R27'): 3.0, (('OSB', True, 2, 4, 0, 1), 'drop'): 44.2375, (('OSB', False, 2, 4, 0, 2), 'R44'): -0.825, (('CR7', False, 2, 4, 0, 2), 'R48'): -0.825, (('CR9', False, 2, 4, 0, 2), 'R48'): -0.825, (('CR7', False, 2, 4, 0, 2), 'R44'): -0.2625, (('OSB', False, 2, 4, 0, 2), 'R50'): -0.75, (('CR21', False, 2, 4, 0, 2), 'R29'): -0.5, (('NB', False, 2, 4, 0, 2), 'take'): 44.2, (('NB', True, 1, 4, 0, 2), 'R27'): 3.0, (('OSB', True, 1, 4, 0, 2), 'drop'): 44.2375, (('OSB', False, 1, 4, 0, 3), 'R44'): -0.825, (('CR7', False, 1, 4, 0, 3), 'R48'): -0.825, (('CR9', False, 1, 4, 0, 3), 'R48'): -0.825, (('CR7', False, 1, 4, 0, 3), 'R44'): -0.2625, (('OSB', False, 1, 4, 0, 3), 'R50'): -0.75, (('CR21', False, 1, 4, 0, 3), 'R29'): -0.5, (('NB', False, 1, 4, 0, 3), 'take'): 44.2, (('NB', True, 0, 4, 0, 3), 'R27'): 3.0, (('OSB', True, 0, 4, 0, 3), 'drop'): 43.599999999999994, (('OSB', False, 0, 4, 0, 4), 'R44'): -1.03625, (('CR7', False, 0, 4, 0, 4), 'R48'): -1.03625, (('CR9', False, 0, 4, 0, 4), 'R48'): -1.03625, (('CR7', False, 0, 4, 0, 4), 'R44'): -1.025, (('OSB', False, 0, 4, 0, 4), 'R50'): -1.025, (('CR21', False, 0, 4, 0, 4), 'R29'): -0.95, (('NB', False, 0, 4, 0, 4), 'R27'): -0.825, (('OSB', False, 0, 4, 0, 4), 'R26'): -0.75, (('CR11', False, 0, 4, 0, 4), 'R49'): -0.825, (('CR9', False, 0, 4, 0, 4), 'R49'): -0.825, (('CR11', False, 0, 4, 0, 4), 'R26'): -0.825, (('OSB', False, 0, 4, 0, 4), 'R27'): -0.825, (('NB', False, 0, 4, 0, 4), 'R33'): -0.75, (('ADB1', False, 0, 4, 0, 4), 'R33'): -0.5, (('NB', False, 0, 4, 0, 4), 'R29'): -0.825, (('CR21', False, 0, 4, 0, 4), 'R32'): -0.9874999999999999, (('NB', False, 0, 4, 0, 4), 'R32'): -0.8625, (('CR21', False, 0, 4, 0, 4), 'R30'): -0.75, (('DCR', False, 0, 4, 0, 4), 'R30'): -0.575, (('NB', False, 0, 4, 0, 4), 'R79'): -0.75, (('CR23', False, 0, 4, 0, 4), 'R79'): -0.575, (('ADB1', False, 0, 4, 0, 4), 'R34'): -0.5, (('HB', False, 0, 4, 0, 4), 'take'): 43.6375, (('HB', True, 0, 3, 0, 4), 'R24'): -0.75, (('ADB', True, 0, 3, 0, 4), 'R25'): -0.825, (('CR11', True, 0, 3, 0, 4), 'R49'): -0.825, (('CR9', True, 0, 3, 0, 4), 'R48'): -0.825, (('CR7', True, 0, 3, 0, 4), 'R48'): -0.825, (('CR9', True, 0, 3, 0, 4), 'R49'): -0.825, (('CR11', True, 0, 3, 0, 4), 'R26'): -0.825, (('OSB', True, 0, 3, 0, 4), 'R44'): -0.825, (('CR7', True, 0, 3, 0, 4), 'R44'): -0.825, (('OSB', True, 0, 3, 0, 4), 'R50'): -0.8625, (('CR21', True, 0, 3, 0, 4), 'R29'): -1.1062500000000002, (('NB', True, 0, 3, 0, 4), 'R27'): -0.95, (('OSB', True, 0, 3, 0, 4), 'R26'): -0.825, (('CR11', True, 0, 3, 0, 4), 'R25'): -0.825, (('ADB', True, 0, 3, 0, 4), 'R24'): -0.825, (('HB', True, 0, 3, 0, 4), 'R34'): -0.825, (('ADB1', True, 0, 3, 0, 4), 'R33'): -1.025, (('NB', True, 0, 3, 0, 4), 'R33'): -1.03625, (('ADB1', True, 0, 3, 0, 4), 'R34'): -0.825, (('HB', True, 0, 3, 0, 4), 'R80'): -0.75, (('HP', True, 0, 3, 0, 4), 'R80'): -0.5, (('HB', True, 0, 3, 0, 4), 'R78'): 6.4116515624999995, (('AB', True, 0, 3, 0, 4), 'drop'): 51.3384140625, (('AB', False, 0, 3, 1, 4), 'R76'): -0.798825, (('CR23', False, 0, 3, 1, 4), 'R79'): -1.0286906249999999, (('NB', False, 0, 3, 1, 4), 'R27'): -1.0875, (('OSB', False, 0, 3, 1, 4), 'R44'): -1.03625, (('CR7', False, 0, 3, 1, 4), 'R48'): -1.03625, (('CR9', False, 0, 3, 1, 4), 'R48'): -1.03625, (('CR7', False, 0, 3, 1, 4), 'R44'): -1.025, (('OSB', False, 0, 3, 1, 4), 'R50'): -1.046689765625, (('CR21', False, 0, 3, 1, 4), 'R29'): -1.0117859375, (('NB', False, 0, 3, 1, 4), 'R33'): 0.2130937499999998, (('ADB1', False, 0, 3, 1, 4), 'R33'): -0.766190625, (('NB', False, 0, 3, 1, 4), 'R29'): -1.03625, (('CR21', False, 0, 3, 1, 4), 'R32'): -1.009940625, (('NB', False, 0, 3, 1, 4), 'R32'): -1.071064765625, (('CR21', False, 0, 3, 1, 4), 'R30'): -0.92939765625, (('DCR', False, 0, 3, 1, 4), 'R30'): -1.1815045312499999, (('NB', False, 0, 3, 1, 4), 'R79'): -0.9002234375, (('CR23', False, 0, 3, 1, 4), 'R75'): -0.04315625000000001, (('AB', False, 0, 3, 1, 4), 'R78'): 9.784375, (('HB', False, 0, 3, 1, 4), 'take'): 52.85207323242187, (('HB', True, 0, 2, 1, 4), 'R24'): -0.8237940898437501, (('ADB', True, 0, 2, 1, 4), 'R25'): -1.12088671875, (('CR11', True, 0, 2, 1, 4), 'R49'): -1.03625, (('CR9', True, 0, 2, 1, 4), 'R48'): -1.03625, (('CR7', True, 0, 2, 1, 4), 'R48'): -1.03625, (('CR9', True, 0, 2, 1, 4), 'R49'): -1.0222578125, (('CR11', True, 0, 2, 1, 4), 'R26'): -0.95, (('OSB', True, 0, 2, 1, 4), 'R44'): -1.03625, (('CR7', True, 0, 2, 1, 4), 'R44'): -1.03625, (('OSB', True, 0, 2, 1, 4), 'R50'): -0.970625, (('CR21', True, 0, 2, 1, 4), 'R29'): -1.0875, (('NB', True, 0, 2, 1, 4), 'R27'): -1.1175, (('OSB', True, 0, 2, 1, 4), 'R26'): -0.825, (('CR11', True, 0, 2, 1, 4), 'R25'): -0.7112940898437501, (('ADB', True, 0, 2, 1, 4), 'R24'): 1.8596987988281244, (('HB', True, 0, 2, 1, 4), 'R34'): -0.8697315898437501, (('ADB1', True, 0, 2, 1, 4), 'R33'): -0.9737, (('NB', True, 0, 2, 1, 4), 'R33'): -1.02421875, (('ADB1', True, 0, 2, 1, 4), 'R34'): 0.9491852343749997, (('HB', True, 0, 2, 1, 4), 'R80'): 0.2156249999999999, (('HP', True, 0, 2, 1, 4), 'R80'): 0.12187499999999996, (('HB', True, 0, 2, 1, 4), 'R78'): 12.296541210937498, (('AB', True, 0, 2, 1, 4), 'drop'): 53.561002775097656, (('AB', False, 0, 2, 2, 4), 'R76'): -0.625309765625, (('CR23', False, 0, 2, 2, 4), 'R79'): -1.0273480078125, (('NB', False, 0, 2, 2, 4), 'R27'): -1.0499999999999998, (('OSB', False, 0, 2, 2, 4), 'R44'): -0.825, (('CR7', False, 0, 2, 2, 4), 'R48'): -0.825, (('CR9', False, 0, 2, 2, 4), 'R48'): -0.825, (('CR7', False, 0, 2, 2, 4), 'R44'): -0.825, (('OSB', False, 0, 2, 2, 4), 'R50'): -0.87375, (('CR21', False, 0, 2, 2, 4), 'R29'): -1.0585980078125, (('NB', False, 0, 2, 2, 4), 'R33'): 0.2130937499999998, (('ADB1', False, 0, 2, 2, 4), 'R33'): -0.766190625, (('NB', False, 0, 2, 2, 4), 'R29'): -1.046689765625, (('CR21', False, 0, 2, 2, 4), 'R32'): -1.009940625, (('NB', False, 0, 2, 2, 4), 'R32'): -1.071064765625, (('CR21', False, 0, 2, 2, 4), 'R30'): -0.7932, (('DCR', False, 0, 2, 2, 4), 'R30'): -1.1970123828124999, (('NB', False, 0, 2, 2, 4), 'R79'): -0.7119500000000001, (('CR23', False, 0, 2, 2, 4), 'R75'): 1.8086015625, (('AB', False, 0, 2, 2, 4), 'R78'): 13.332277615234375, (('HB', False, 0, 2, 2, 4), 'take'): 53.31804407226562, (('HB', True, 0, 1, 2, 4), 'R24'): -0.8237940898437501, (('ADB', True, 0, 1, 2, 4), 'R25'): -1.1035078125, (('CR11', True, 0, 1, 2, 4), 'R49'): -1.03625, (('CR9', True, 0, 1, 2, 4), 'R48'): -1.03625, (('CR7', True, 0, 1, 2, 4), 'R48'): -1.03625, (('CR9', True, 0, 1, 2, 4), 'R49'): -1.0222578125, (('CR11', True, 0, 1, 2, 4), 'R26'): -0.95, (('OSB', True, 0, 1, 2, 4), 'R44'): -0.825, (('CR7', True, 0, 1, 2, 4), 'R44'): -0.825, (('OSB', True, 0, 1, 2, 4), 'R50'): -0.825, (('CR21', True, 0, 1, 2, 4), 'R29'): -0.95, (('NB', True, 0, 1, 2, 4), 'R27'): -0.9874999999999999, (('OSB', True, 0, 1, 2, 4), 'R26'): -0.8597578125, (('CR11', True, 0, 1, 2, 4), 'R25'): -0.7112940898437501, (('ADB', True, 0, 1, 2, 4), 'R24'): 1.8392996484374995, (('HB', True, 0, 1, 2, 4), 'R34'): -0.9873878398437501, (('ADB1', True, 0, 1, 2, 4), 'R33'): -1.10625, (('NB', True, 0, 1, 2, 4), 'R33'): -0.8289503398437501, (('ADB1', True, 0, 1, 2, 4), 'R34'): 1.6025808984374994, (('HB', True, 0, 1, 2, 4), 'R80'): 0.3765624999999999, (('HP', True, 0, 1, 2, 4), 'R80'): 0.12187499999999996, (('HB', True, 0, 1, 2, 4), 'R78'): 13.5625041015625, (('AB', True, 0, 1, 2, 4), 'drop'): 53.7205517578125, (('AB', False, 0, 1, 3, 4), 'R76'): -0.6124953124999999, (('CR23', False, 0, 1, 3, 4), 'R79'): -1.0273480078125, (('NB', False, 0, 1, 3, 4), 'R27'): -1.0499999999999998, (('OSB', False, 0, 1, 3, 4), 'R44'): -0.825, (('CR7', False, 0, 1, 3, 4), 'R48'): -0.825, (('CR9', False, 0, 1, 3, 4), 'R48'): -0.825, (('CR7', False, 0, 1, 3, 4), 'R44'): -0.825, (('OSB', False, 0, 1, 3, 4), 'R50'): -0.87375, (('CR21', False, 0, 1, 3, 4), 'R29'): -1.0585980078125, (('NB', False, 0, 1, 3, 4), 'R33'): 0.2130937499999998, (('ADB1', False, 0, 1, 3, 4), 'R33'): -0.766190625, (('NB', False, 0, 1, 3, 4), 'R29'): -1.046689765625, (('CR21', False, 0, 1, 3, 4), 'R32'): -1.009940625, (('NB', False, 0, 1, 3, 4), 'R32'): -1.071064765625, (('CR21', False, 0, 1, 3, 4), 'R30'): -0.788928515625, (('DCR', False, 0, 1, 3, 4), 'R30'): -1.19637166015625, (('NB', False, 0, 1, 3, 4), 'R79'): -0.7076785156250001, (('CR23', False, 0, 1, 3, 4), 'R75'): 1.8797929687500003, (('AB', False, 0, 1, 3, 4), 'R78'): 14.08744140625, (('HB', False, 0, 1, 3, 4), 'take'): 58.32685546875, (('HB', True, 0, 0, 3, 4), 'R24'): -0.30453125000000003, (('ADB', True, 0, 0, 3, 4), 'R25'): -1.0750312499999999, (('CR11', True, 0, 0, 3, 4), 'R49'): -1.03625, (('CR9', True, 0, 0, 3, 4), 'R48'): -1.03625, (('CR7', True, 0, 0, 3, 4), 'R48'): -1.03625, (('CR9', True, 0, 0, 3, 4), 'R49'): -0.99378125, (('CR11', True, 0, 0, 3, 4), 'R26'): -0.95, (('OSB', True, 0, 0, 3, 4), 'R44'): -0.825, (('CR7', True, 0, 0, 3, 4), 'R44'): -0.825, (('OSB', True, 0, 0, 3, 4), 'R50'): -0.825, (('CR21', True, 0, 0, 3, 4), 'R29'): -0.95, (('NB', True, 0, 0, 3, 4), 'R27'): -0.9874999999999999, (('OSB', True, 0, 0, 3, 4), 'R26'): -0.83128125, (('CR11', True, 0, 0, 3, 4), 'R25'): -0.1920312500000001, (('ADB', True, 0, 0, 3, 4), 'R24'): 5.96484375, (('HB', True, 0, 0, 3, 4), 'R34'): -0.65796875, (('ADB1', True, 0, 0, 3, 4), 'R33'): -1.10625, (('NB', True, 0, 0, 3, 4), 'R33'): -0.49953125000000004, (('ADB1', True, 0, 0, 3, 4), 'R34'): 5.41171875, (('HB', True, 0, 0, 3, 4), 'R80'): 1.8531250000000001, (('HP', True, 0, 0, 3, 4), 'R80'): 1.3874999999999997, (('HB', True, 0, 0, 3, 4), 'R78'): 33.30859375, (('AB', True, 0, 0, 3, 4), 'drop'): 143.5546875, (('AB', False, 0, 0, 4, 4), 'R76'): 375.0, (('ADB', False, 4, 4, 0, 0), 'R24'): 13.1603125, (('HB', False, 4, 4, 0, 0), 'take'): 51.221875, (('HB', True, 4, 3, 0, 0), 'R24'): -0.9459375, (('ADB', True, 4, 3, 0, 0), 'R25'): -0.95, (('CR11', True, 4, 3, 0, 0), 'R49'): -0.825, (('CR9', True, 4, 3, 0, 0), 'R48'): -0.75, (('CR7', True, 4, 3, 0, 0), 'R48'): -0.5, (('CR9', True, 4, 3, 0, 0), 'R49'): -0.5, (('CR11', True, 4, 3, 0, 0), 'R26'): -0.5, (('OSB', True, 4, 3, 0, 0), 'drop'): 44.2375, (('OSB', False, 4, 3, 0, 1), 'R44'): -0.825, (('CR7', False, 4, 3, 0, 1), 'R48'): -0.825, (('CR9', False, 4, 3, 0, 1), 'R48'): -0.825, (('CR7', False, 4, 3, 0, 1), 'R44'): -0.2625, (('OSB', False, 4, 3, 0, 1), 'R50'): -0.75, (('CR21', False, 4, 3, 0, 1), 'R29'): -0.5, (('NB', False, 4, 3, 0, 1), 'take'): 44.2, (('NB', True, 3, 3, 0, 1), 'R27'): 3.0, (('OSB', True, 3, 3, 0, 1), 'drop'): 44.2375, (('OSB', False, 3, 3, 0, 2), 'R44'): -0.825, (('CR7', False, 3, 3, 0, 2), 'R48'): -0.825, (('CR9', False, 3, 3, 0, 2), 'R48'): -0.825, (('CR7', False, 3, 3, 0, 2), 'R44'): -0.2625, (('OSB', False, 3, 3, 0, 2), 'R50'): -0.75, (('CR21', False, 3, 3, 0, 2), 'R29'): -0.5, (('NB', False, 3, 3, 0, 2), 'take'): 44.2, (('NB', True, 2, 3, 0, 2), 'R27'): 3.0, (('OSB', True, 2, 3, 0, 2), 'drop'): 44.2375, (('OSB', False, 2, 3, 0, 3), 'R44'): -0.825, (('CR7', False, 2, 3, 0, 3), 'R48'): -0.825, (('CR9', False, 2, 3, 0, 3), 'R48'): -0.825, (('CR7', False, 2, 3, 0, 3), 'R44'): -0.2625, (('OSB', False, 2, 3, 0, 3), 'R50'): -0.75, (('CR21', False, 2, 3, 0, 3), 'R29'): -0.5, (('NB', False, 2, 3, 0, 3), 'take'): 44.2, (('NB', True, 1, 3, 0, 3), 'R27'): 3.0, (('OSB', True, 1, 3, 0, 3), 'drop'): 44.2375, (('OSB', False, 1, 3, 0, 4), 'R44'): -0.825, (('CR7', False, 1, 3, 0, 4), 'R48'): -0.825, (('CR9', False, 1, 3, 0, 4), 'R48'): -0.825, (('CR7', False, 1, 3, 0, 4), 'R44'): -0.2625, (('OSB', False, 1, 3, 0, 4), 'R50'): -0.75, (('CR21', False, 1, 3, 0, 4), 'R29'): -0.5, (('NB', False, 1, 3, 0, 4), 'take'): 43.599999999999994, (('NB', True, 0, 3, 0, 4), 'R29'): -1.025, (('CR21', True, 0, 3, 0, 4), 'R32'): -1.025, (('NB', True, 0, 3, 0, 4), 'R32'): -1.025, (('CR21', True, 0, 3, 0, 4), 'R30'): -0.3875, (('DCR', True, 0, 3, 0, 4), 'R30'): -0.845625, (('NB', True, 0, 3, 0, 4), 'R79'): -0.10625000000000007, (('CR23', True, 0, 3, 0, 4), 'R79'): -0.575, (('OSB', True, 0, 3, 0, 4), 'R27'): -0.575, (('DCR', True, 0, 3, 0, 4), 'R71'): 3.25, (('AB', False, 0, 3, 1, 4), 'R35'): 0.589234375, (('HP', False, 0, 3, 1, 4), 'R80'): 8.1365625, (('ADB', True, 0, 2, 1, 4), 'R1'): -1.0278828125000001, (('CR1', True, 0, 2, 1, 4), 'R5'): -1.0379375, (('MG', True, 0, 2, 1, 4), 'R5'): -1.0335078125, (('CR1', True, 0, 2, 1, 4), 'R1'): -0.7300440898437501, (('OSB', True, 0, 2, 1, 4), 'R27'): -0.8625, (('NB', True, 0, 2, 1, 4), 'R29'): -1.070625, (('CR21', True, 0, 2, 1, 4), 'R32'): -0.99705, (('NB', True, 0, 2, 1, 4), 'R32'): -1.0437500000000002, (('CR21', True, 0, 2, 1, 4), 'R30'): -0.20625000000000002, (('DCR', True, 0, 2, 1, 4), 'R30'): -0.845625, (('NB', True, 0, 2, 1, 4), 'R79'): 0.10299999999999987, (('CR23', True, 0, 2, 1, 4), 'R79'): -0.575, (('DCR', True, 0, 2, 1, 4), 'R71'): 9.09334833984375, (('AB', False, 0, 2, 2, 4), 'R35'): 1.7064113552734372, (('HP', False, 0, 2, 2, 4), 'R80'): 11.32573716015625, (('ADB', True, 0, 1, 2, 4), 'R1'): -1.0278828125000001, (('CR1', True, 0, 1, 2, 4), 'R5'): -1.0379375, (('MG', True, 0, 1, 2, 4), 'R5'): -1.0335078125, (('CR1', True, 0, 1, 2, 4), 'R1'): -0.7300440898437501, (('OSB', True, 0, 1, 2, 4), 'R27'): -0.8625, (('NB', True, 0, 1, 2, 4), 'R29'): -0.825, (('CR21', True, 0, 1, 2, 4), 'R32'): -0.825, (('NB', True, 0, 1, 2, 4), 'R32'): -0.8625, (('CR21', True, 0, 1, 2, 4), 'R30'): -0.75, (('DCR', True, 0, 1, 2, 4), 'R30'): -0.575, (('NB', True, 0, 1, 2, 4), 'R79'): -0.75, (('CR23', True, 0, 1, 2, 4), 'R79'): -0.575, (('DCR', True, 0, 1, 2, 4), 'R71'): 3.25, (('AB', False, 0, 1, 3, 4), 'R35'): 1.777181640625, (('HP', False, 0, 1, 3, 4), 'R80'): 11.7975390625, (('ADB', True, 0, 0, 3, 4), 'R1'): -0.9994062499999999, (('CR1', True, 0, 0, 3, 4), 'R5'): -1.0379375, (('MG', True, 0, 0, 3, 4), 'R5'): -1.00503125, (('CR1', True, 0, 0, 3, 4), 'R1'): -0.21078125000000003, (('OSB', True, 0, 0, 3, 4), 'R27'): -0.8625, (('NB', True, 0, 0, 3, 4), 'R29'): -0.825, (('CR21', True, 0, 0, 3, 4), 'R32'): -0.825, (('NB', True, 0, 0, 3, 4), 'R32'): -0.8625, (('CR21', True, 0, 0, 3, 4), 'R30'): -0.75, (('DCR', True, 0, 0, 3, 4), 'R30'): -0.575, (('NB', True, 0, 0, 3, 4), 'R79'): -0.75, (('CR23', True, 0, 0, 3, 4), 'R79'): -0.575, (('DCR', True, 0, 0, 3, 4), 'R71'): 3.25, (('AB', False, 0, 0, 4, 4), 'R78'): 375.0, (('ADB', False, 4, 4, 0, 0), 'R1'): -0.4181891967773439, (('CR11', False, 4, 4, 0, 0), 'R25'): 1.721625, (('HB', True, 4, 3, 0, 0), 'R34'): -0.95, (('ADB1', True, 4, 3, 0, 0), 'R33'): -0.2625, (('NB', True, 4, 3, 0, 0), 'R27'): 3.25, (('OSB', False, 4, 3, 0, 1), 'R26'): -0.5, (('CR11', False, 4, 3, 0, 1), 'R49'): -0.5, (('CR9', False, 4, 3, 0, 1), 'R49'): -0.5, (('CR11', False, 4, 3, 0, 1), 'R26'): -0.5, (('OSB', False, 4, 3, 0, 1), 'R27'): 3.25, (('NB', True, 3, 3, 0, 1), 'R33'): -0.75, (('ADB1', True, 3, 3, 0, 1), 'R33'): -0.5, (('NB', True, 3, 3, 0, 1), 'R29'): -0.5, (('CR21', True, 3, 3, 0, 1), 'R29'): -0.5, (('NB', True, 3, 3, 0, 1), 'R32'): -0.5, (('CR21', True, 3, 3, 0, 1), 'R32'): -0.5, (('NB', True, 3, 3, 0, 1), 'R79'): -0.5, (('CR23', True, 3, 3, 0, 1), 'R79'): -0.575, (('OSB', False, 3, 3, 0, 2), 'R26'): -0.5, (('CR11', False, 3, 3, 0, 2), 'R49'): -0.5, (('CR9', False, 3, 3, 0, 2), 'R49'): -0.5, (('CR11', False, 3, 3, 0, 2), 'R26'): -0.5, (('OSB', False, 3, 3, 0, 2), 'R27'): 3.25, (('NB', True, 2, 3, 0, 2), 'R33'): -0.75, (('ADB1', True, 2, 3, 0, 2), 'R33'): -0.5, (('NB', True, 2, 3, 0, 2), 'R29'): -0.5, (('CR21', True, 2, 3, 0, 2), 'R29'): -0.5, (('NB', True, 2, 3, 0, 2), 'R32'): -0.5, (('CR21', True, 2, 3, 0, 2), 'R32'): -0.5, (('NB', True, 2, 3, 0, 2), 'R79'): -0.5, (('CR23', True, 2, 3, 0, 2), 'R79'): -0.575, (('OSB', False, 2, 3, 0, 3), 'R26'): -0.5, (('CR11', False, 2, 3, 0, 3), 'R49'): -0.5, (('CR9', False, 2, 3, 0, 3), 'R49'): -0.5, (('CR11', False, 2, 3, 0, 3), 'R26'): -0.5, (('OSB', False, 2, 3, 0, 3), 'R27'): 3.25, (('NB', True, 1, 3, 0, 3), 'R33'): -0.75, (('ADB1', True, 1, 3, 0, 3), 'R33'): -0.5, (('NB', True, 1, 3, 0, 3), 'R29'): -0.5, (('CR21', True, 1, 3, 0, 3), 'R29'): -0.5, (('NB', True, 1, 3, 0, 3), 'R32'): -0.5, (('CR21', True, 1, 3, 0, 3), 'R32'): -0.5, (('NB', True, 1, 3, 0, 3), 'R79'): -0.5, (('CR23', True, 1, 3, 0, 3), 'R79'): -0.575, (('OSB', False, 1, 3, 0, 4), 'R26'): -0.5, (('CR11', False, 1, 3, 0, 4), 'R49'): -0.5, (('CR9', False, 1, 3, 0, 4), 'R49'): -0.5, (('CR11', False, 1, 3, 0, 4), 'R26'): -0.5, (('OSB', False, 1, 3, 0, 4), 'R27'): 3.25, (('CR23', True, 0, 3, 0, 4), 'R75'): 5.125, (('AB', False, 0, 3, 1, 4), 'R40'): -0.7673515625, (('SB', False, 0, 3, 1, 4), 'R39'): -1.02528125, (('CR27', False, 0, 3, 1, 4), 'R38'): -0.8787499999999999, (('HG', False, 0, 3, 1, 4), 'R23'): 0.711109375, (('HP', False, 0, 3, 1, 4), 'R23'): -0.7528125, (('HG', False, 0, 3, 1, 4), 'R38'): -0.825, (('CR27', False, 0, 3, 1, 4), 'R39'): -0.825, (('SB', False, 0, 3, 1, 4), 'R40'): 0.7176562500000001, (('AB', False, 0, 3, 1, 4), 'R71'): -0.75840078125, (('DCR', False, 0, 3, 1, 4), 'R71'): 1.027328125, (('AB', False, 0, 3, 1, 4), 'R74'): -0.8945984375, (('CR24', False, 0, 3, 1, 4), 'R72'): -0.7119500000000001, (('DCR', False, 0, 3, 1, 4), 'R72'): -0.8945984375, (('CR24', False, 0, 3, 1, 4), 'R74'): 1.027328125, (('AB', False, 0, 3, 1, 4), 'R73'): -0.7119500000000001, (('CR24', False, 0, 3, 1, 4), 'R73'): 1.027328125, (('AB', False, 0, 3, 1, 4), 'R75'): -0.9058484375, (('CR23', False, 0, 3, 1, 4), 'R76'): 1.008578125, (('OSB', False, 0, 3, 1, 4), 'R26'): -0.95, (('CR11', False, 0, 3, 1, 4), 'R49'): -0.825, (('CR9', False, 0, 3, 1, 4), 'R49'): -0.825, (('CR11', False, 0, 3, 1, 4), 'R26'): -0.8362499999999999, (('OSB', False, 0, 3, 1, 4), 'R27'): -0.9, (('ADB1', False, 0, 3, 1, 4), 'R34'): 9.859152615234374, (('HP', True, 0, 2, 1, 4), 'R23'): -0.75, (('HG', True, 0, 2, 1, 4), 'R23'): -0.5, (('HP', True, 0, 2, 1, 4), 'R35'): 5.125, (('AB', False, 0, 2, 2, 4), 'R40'): -0.639948828125, (('SB', False, 0, 2, 2, 4), 'R39'): -1.1123058984375, (('CR27', False, 0, 2, 2, 4), 'R38'): -0.83270859375, (('HG', False, 0, 2, 2, 4), 'R23'): 1.5544152615234372, (('HP', False, 0, 2, 2, 4), 'R23'): -0.76973984375, (('HG', False, 0, 2, 2, 4), 'R38'): -1.03625, (('CR27', False, 0, 2, 2, 4), 'R39'): -0.6644351562499999, (('SB', False, 0, 2, 2, 4), 'R40'): 2.326724454785156, (('AB', False, 0, 2, 2, 4), 'R71'): -0.625309765625, (('DCR', False, 0, 2, 2, 4), 'R71'): 1.8086015625, (('AB', False, 0, 2, 2, 4), 'R74'): -0.7932, (('CR24', False, 0, 2, 2, 4), 'R72'): -0.584684765625, (('DCR', False, 0, 2, 2, 4), 'R72'): -0.7932, (('CR24', False, 0, 2, 2, 4), 'R74'): 1.8086015625, (('AB', False, 0, 2, 2, 4), 'R73'): -0.584684765625, (('CR24', False, 0, 2, 2, 4), 'R73'): 1.8086015625, (('AB', False, 0, 2, 2, 4), 'R75'): -0.7932, (('CR23', False, 0, 2, 2, 4), 'R76'): 1.7992265625000001, (('OSB', False, 0, 2, 2, 4), 'R26'): -0.75, (('CR11', False, 0, 2, 2, 4), 'R49'): -0.825, (('CR9', False, 0, 2, 2, 4), 'R49'): -0.825, (('CR11', False, 0, 2, 2, 4), 'R26'): -0.8362499999999999, (('OSB', False, 0, 2, 2, 4), 'R27'): -0.803690625, (('ADB1', False, 0, 2, 2, 4), 'R34'): 10.005063612304687, (('HP', True, 0, 1, 2, 4), 'R23'): -0.75, (('HG', True, 0, 1, 2, 4), 'R23'): -0.5, (('HP', True, 0, 1, 2, 4), 'R35'): 9.971394140625, (('AB', False, 0, 1, 3, 4), 'R40'): -0.62606650390625, (('SB', False, 0, 1, 3, 4), 'R39'): -1.110704091796875, (('CR27', False, 0, 1, 3, 4), 'R38'): -0.83270859375, (('HG', False, 0, 1, 3, 4), 'R23'): 1.625185546875, (('HP', False, 0, 1, 3, 4), 'R23'): -0.76973984375, (('HG', False, 0, 1, 3, 4), 'R38'): -1.03625, (('CR27', False, 0, 1, 3, 4), 'R39'): -0.6537564453125, (('SB', False, 0, 1, 3, 4), 'R40'): 2.4755947265625, (('AB', False, 0, 1, 3, 4), 'R71'): -0.6124953124999999, (('DCR', False, 0, 1, 3, 4), 'R71'): 1.8797929687500003, (('AB', False, 0, 1, 3, 4), 'R74'): -0.788928515625, (('CR24', False, 0, 1, 3, 4), 'R72'): -0.5718703125, (('DCR', False, 0, 1, 3, 4), 'R72'): -0.788928515625, (('CR24', False, 0, 1, 3, 4), 'R74'): 1.8797929687500003, (('AB', False, 0, 1, 3, 4), 'R73'): -0.5718703125, (('CR24', False, 0, 1, 3, 4), 'R73'): 1.8797929687500003, (('AB', False, 0, 1, 3, 4), 'R75'): -0.788928515625, (('CR23', False, 0, 1, 3, 4), 'R76'): 1.8704179687500004, (('OSB', False, 0, 1, 3, 4), 'R26'): -0.75, (('CR11', False, 0, 1, 3, 4), 'R49'): -0.825, (('CR9', False, 0, 1, 3, 4), 'R49'): -0.825, (('CR11', False, 0, 1, 3, 4), 'R26'): -0.8362499999999999, (('OSB', False, 0, 1, 3, 4), 'R27'): -0.803690625, (('ADB1', False, 0, 1, 3, 4), 'R34'): 10.694384765625, (('HP', True, 0, 0, 3, 4), 'R23'): -0.75, (('HG', True, 0, 0, 3, 4), 'R23'): -0.5, (('HP', True, 0, 0, 3, 4), 'R35'): 23.5078125, (('AB', False, 0, 0, 4, 4), 'R35'): 250.0, (('OSB', False, 4, 4, 0, 0), 'R26'): -0.6825, (('HB', True, 4, 3, 0, 0), 'R80'): -0.3875, (('HP', True, 4, 3, 0, 0), 'R80'): -0.018750000000000044, (('HB', True, 4, 3, 0, 0), 'R78'): 8.5, (('AB', True, 4, 3, 0, 0), 'drop'): 46.875, (('AB', False, 4, 3, 1, 0), 'R76'): -0.5, (('CR23', False, 4, 3, 1, 0), 'R79'): -0.5, (('NB', False, 4, 3, 1, 0), 'take'): 37.5, (('NB', True, 3, 3, 1, 0), 'R27'): 3.0, (('OSB', True, 3, 3, 1, 0), 'drop'): 37.5, (('OSB', False, 3, 3, 1, 1), 'R44'): -0.5, (('CR7', False, 3, 3, 1, 1), 'R48'): -0.5, (('CR9', False, 3, 3, 1, 1), 'R48'): -0.5, (('CR7', False, 3, 3, 1, 1), 'R44'): -0.5, (('OSB', False, 3, 3, 1, 1), 'R50'): -0.5, (('CR21', False, 3, 3, 1, 1), 'R29'): -0.5, (('NB', False, 3, 3, 1, 1), 'take'): 37.5, (('NB', True, 2, 3, 1, 1), 'R27'): 3.0, (('OSB', True, 2, 3, 1, 1), 'drop'): 37.5, (('OSB', False, 2, 3, 1, 2), 'R44'): -0.5, (('CR7', False, 2, 3, 1, 2), 'R48'): -0.5, (('CR9', False, 2, 3, 1, 2), 'R48'): -0.5, (('CR7', False, 2, 3, 1, 2), 'R44'): -0.5, (('OSB', False, 2, 3, 1, 2), 'R50'): -0.5, (('CR21', False, 2, 3, 1, 2), 'R29'): -0.5, (('NB', False, 2, 3, 1, 2), 'take'): 37.5, (('NB', True, 1, 3, 1, 2), 'R27'): 3.0, (('OSB', True, 1, 3, 1, 2), 'drop'): 37.5, (('OSB', False, 1, 3, 1, 3), 'R44'): -0.5, (('CR7', False, 1, 3, 1, 3), 'R48'): -0.5, (('CR9', False, 1, 3, 1, 3), 'R48'): -0.5, (('CR7', False, 1, 3, 1, 3), 'R44'): -0.5, (('OSB', False, 1, 3, 1, 3), 'R50'): -0.5, (('CR21', False, 1, 3, 1, 3), 'R29'): -0.5, (('NB', False, 1, 3, 1, 3), 'take'): 37.5, (('NB', True, 0, 3, 1, 3), 'R27'): 2.98875, (('OSB', True, 0, 3, 1, 3), 'drop'): 37.35, (('AB', False, 0, 0, 4, 4), 'R40'): 250.0, (('OSB', False, 4, 4, 0, 0), 'R27'): 3.25, (('NB', True, 3, 4, 0, 0), 'R33'): -0.75, (('ADB1', True, 3, 4, 0, 0), 'R33'): -0.5, (('NB', True, 3, 4, 0, 0), 'R29'): -0.5, (('CR21', True, 3, 4, 0, 0), 'R29'): -0.5, (('NB', True, 3, 4, 0, 0), 'R32'): -0.5, (('CR21', True, 3, 4, 0, 0), 'R32'): -0.5, (('NB', True, 3, 4, 0, 0), 'R79'): -0.5, (('CR23', True, 3, 4, 0, 0), 'R79'): -0.575, (('OSB', False, 3, 4, 0, 1), 'R26'): -0.5, (('CR11', False, 3, 4, 0, 1), 'R49'): -0.5, (('CR9', False, 3, 4, 0, 1), 'R49'): -0.5, (('CR11', False, 3, 4, 0, 1), 'R26'): -0.5, (('OSB', False, 3, 4, 0, 1), 'R27'): 3.25, (('NB', True, 2, 4, 0, 1), 'R33'): -0.75, (('ADB1', True, 2, 4, 0, 1), 'R33'): -0.5, (('NB', True, 2, 4, 0, 1), 'R29'): -0.5, (('CR21', True, 2, 4, 0, 1), 'R29'): -0.5, (('NB', True, 2, 4, 0, 1), 'R32'): -0.5, (('CR21', True, 2, 4, 0, 1), 'R32'): -0.5, (('NB', True, 2, 4, 0, 1), 'R79'): -0.5, (('CR23', True, 2, 4, 0, 1), 'R79'): -0.575, (('OSB', False, 2, 4, 0, 2), 'R26'): -0.5, (('CR11', False, 2, 4, 0, 2), 'R49'): -0.5, (('CR9', False, 2, 4, 0, 2), 'R49'): -0.5, (('CR11', False, 2, 4, 0, 2), 'R26'): -0.5, (('OSB', False, 2, 4, 0, 2), 'R27'): 3.25, (('NB', True, 1, 4, 0, 2), 'R33'): -0.75, (('ADB1', True, 1, 4, 0, 2), 'R33'): -0.5, (('NB', True, 1, 4, 0, 2), 'R29'): -0.5, (('CR21', True, 1, 4, 0, 2), 'R29'): -0.5, (('NB', True, 1, 4, 0, 2), 'R32'): -0.5, (('CR21', True, 1, 4, 0, 2), 'R32'): -0.5, (('NB', True, 1, 4, 0, 2), 'R79'): -0.5, (('CR23', True, 1, 4, 0, 2), 'R79'): -0.575, (('OSB', False, 1, 4, 0, 3), 'R26'): -0.5, (('CR11', False, 1, 4, 0, 3), 'R49'): -0.5, (('CR9', False, 1, 4, 0, 3), 'R49'): -0.5, (('CR11', False, 1, 4, 0, 3), 'R26'): -0.5, (('OSB', False, 1, 4, 0, 3), 'R27'): 3.25, (('NB', True, 0, 4, 0, 3), 'R33'): -0.75, (('ADB1', True, 0, 4, 0, 3), 'R33'): -0.5, (('NB', True, 0, 4, 0, 3), 'R29'): -0.5, (('CR21', True, 0, 4, 0, 3), 'R29'): -0.5, (('NB', True, 0, 4, 0, 3), 'R32'): -0.5, (('CR21', True, 0, 4, 0, 3), 'R32'): -0.5, (('NB', True, 0, 4, 0, 3), 'R79'): -0.5, (('CR23', True, 0, 4, 0, 3), 'R79'): -0.575, (('CR11', False, 0, 4, 0, 4), 'R25'): -0.5, (('ADB', False, 0, 4, 0, 4), 'R25'): -0.575, (('DCR', False, 0, 4, 0, 4), 'R71'): -0.5, (('AB', False, 0, 4, 0, 4), 'R76'): -0.5, (('CR23', False, 0, 4, 0, 4), 'R75'): -0.5, (('AB', False, 0, 4, 0, 4), 'R78'): 3.25, (('ADB', True, 0, 3, 0, 4), 'R1'): -0.5, (('CR1', True, 0, 3, 0, 4), 'R5'): -0.5, (('MG', True, 0, 3, 0, 4), 'R5'): -0.5, (('CR1', True, 0, 3, 0, 4), 'R1'): -0.575, (('HP', True, 0, 3, 0, 4), 'R23'): -0.5, (('HG', True, 0, 3, 0, 4), 'R23'): -0.5, (('HP', True, 0, 3, 0, 4), 'R35'): 6.0625, (('HP', False, 0, 3, 1, 4), 'R35'): 1.152328125, (('SB', False, 0, 3, 1, 4), 'R36'): -0.7528125, (('HG', False, 0, 3, 1, 4), 'R36'): -0.6798515624999999, (('CR23', True, 0, 2, 1, 4), 'R75'): 6.52, (('HP', False, 0, 2, 2, 4), 'R35'): 2.076005704785156, (('SB', False, 0, 2, 2, 4), 'R36'): -0.76973984375, (('HG', False, 0, 2, 2, 4), 'R36'): -0.5918609374999999, (('CR23', True, 0, 1, 2, 4), 'R75'): 6.52, (('HP', False, 0, 1, 3, 4), 'R35'): 2.2035185546875002, (('SB', False, 0, 1, 3, 4), 'R36'): -0.76973984375, (('HG', False, 0, 1, 3, 4), 'R36'): -0.579046484375, (('CR23', True, 0, 0, 3, 4), 'R75'): 16.375, (('AB', False, 0, 0, 4, 4), 'R71'): 250.0, (('ADB', True, 4, 3, 0, 0), 'R24'): -0.05625000000000002, (('ADB1', True, 4, 3, 0, 0), 'R34'): -0.05625000000000002, (('HP', True, 4, 3, 0, 0), 'R23'): -0.5, (('HG', True, 4, 3, 0, 0), 'R23'): -0.5, (('HP', True, 4, 3, 0, 0), 'R35'): 3.25, (('AB', False, 4, 3, 1, 0), 'R78'): -0.5, (('HB', False, 4, 3, 1, 0), 'take'): 37.5, (('HB', True, 4, 2, 1, 0), 'R24'): -0.5, (('ADB', True, 4, 2, 1, 0), 'R25'): -0.5, (('CR11', True, 4, 2, 1, 0), 'R49'): -0.5, (('CR9', True, 4, 2, 1, 0), 'R48'): -0.5, (('CR7', True, 4, 2, 1, 0), 'R48'): -0.5, (('CR9', True, 4, 2, 1, 0), 'R49'): -0.5, (('CR11', True, 4, 2, 1, 0), 'R26'): -0.5, (('OSB', True, 4, 2, 1, 0), 'drop'): 37.5, (('OSB', False, 4, 2, 1, 1), 'R44'): -0.5, (('CR7', False, 4, 2, 1, 1), 'R48'): -0.5, (('CR9', False, 4, 2, 1, 1), 'R48'): -0.5, (('CR7', False, 4, 2, 1, 1), 'R44'): -0.5, (('OSB', False, 4, 2, 1, 1), 'R50'): -0.5, (('CR21', False, 4, 2, 1, 1), 'R29'): -0.5, (('NB', False, 4, 2, 1, 1), 'take'): 37.5, (('NB', True, 3, 2, 1, 1), 'R27'): 3.0, (('OSB', True, 3, 2, 1, 1), 'drop'): 37.5, (('OSB', False, 3, 2, 1, 2), 'R44'): -0.5, (('CR7', False, 3, 2, 1, 2), 'R48'): -0.5, (('CR9', False, 3, 2, 1, 2), 'R48'): -0.5, (('CR7', False, 3, 2, 1, 2), 'R44'): -0.5, (('OSB', False, 3, 2, 1, 2), 'R50'): -0.5, (('CR21', False, 3, 2, 1, 2), 'R29'): -0.5, (('NB', False, 3, 2, 1, 2), 'take'): 37.5, (('NB', True, 2, 2, 1, 2), 'R27'): 3.0, (('OSB', True, 2, 2, 1, 2), 'drop'): 37.5, (('OSB', False, 2, 2, 1, 3), 'R44'): -0.5, (('CR7', False, 2, 2, 1, 3), 'R48'): -0.5, (('CR9', False, 2, 2, 1, 3), 'R48'): -0.5, (('CR7', False, 2, 2, 1, 3), 'R44'): -0.5, (('OSB', False, 2, 2, 1, 3), 'R50'): -0.5, (('CR21', False, 2, 2, 1, 3), 'R29'): -0.5, (('NB', False, 2, 2, 1, 3), 'take'): 37.5, (('NB', True, 1, 2, 1, 3), 'R27'): 3.0, (('OSB', True, 1, 2, 1, 3), 'drop'): 37.5, (('OSB', False, 1, 2, 1, 4), 'R44'): -0.5, (('CR7', False, 1, 2, 1, 4), 'R48'): -0.5, (('CR9', False, 1, 2, 1, 4), 'R48'): -0.5, (('CR7', False, 1, 2, 1, 4), 'R44'): -0.5, (('OSB', False, 1, 2, 1, 4), 'R50'): -0.5, (('CR21', False, 1, 2, 1, 4), 'R29'): -0.5, (('NB', False, 1, 2, 1, 4), 'take'): 37.33125, (('AB', False, 0, 0, 4, 4), 'R74'): 250.0, (('AB', False, 4, 3, 1, 0), 'R35'): -0.5, (('HP', False, 4, 3, 1, 0), 'R80'): 3.25, (('HB', True, 4, 2, 1, 0), 'R34'): -0.5, (('ADB1', True, 4, 2, 1, 0), 'R33'): -0.5, (('NB', True, 4, 2, 1, 0), 'R27'): 3.25, (('OSB', False, 4, 2, 1, 1), 'R26'): -0.5, (('CR11', False, 4, 2, 1, 1), 'R49'): -0.5, (('CR9', False, 4, 2, 1, 1), 'R49'): -0.5, (('CR11', False, 4, 2, 1, 1), 'R26'): -0.5, (('OSB', False, 4, 2, 1, 1), 'R27'): 3.25, (('NB', True, 3, 2, 1, 1), 'R33'): -0.5, (('ADB1', True, 3, 2, 1, 1), 'R33'): -0.5, (('NB', True, 3, 2, 1, 1), 'R29'): -0.5, (('CR21', True, 3, 2, 1, 1), 'R29'): -0.5, (('NB', True, 3, 2, 1, 1), 'R32'): -0.5, (('CR21', True, 3, 2, 1, 1), 'R32'): -0.5, (('NB', True, 3, 2, 1, 1), 'R79'): -0.5, (('CR23', True, 3, 2, 1, 1), 'R79'): -0.575, (('OSB', False, 3, 2, 1, 2), 'R26'): -0.5, (('CR11', False, 3, 2, 1, 2), 'R49'): -0.5, (('CR9', False, 3, 2, 1, 2), 'R49'): -0.5, (('CR11', False, 3, 2, 1, 2), 'R26'): -0.5, (('OSB', False, 3, 2, 1, 2), 'R27'): 3.25, (('NB', True, 2, 2, 1, 2), 'R33'): -0.5, (('ADB1', True, 2, 2, 1, 2), 'R33'): -0.5, (('NB', True, 2, 2, 1, 2), 'R29'): -0.5, (('CR21', True, 2, 2, 1, 2), 'R29'): -0.5, (('NB', True, 2, 2, 1, 2), 'R32'): -0.5, (('CR21', True, 2, 2, 1, 2), 'R32'): -0.5, (('NB', True, 2, 2, 1, 2), 'R79'): -0.5, (('CR23', True, 2, 2, 1, 2), 'R79'): -0.575, (('OSB', False, 2, 2, 1, 3), 'R26'): -0.5, (('CR11', False, 2, 2, 1, 3), 'R49'): -0.5, (('CR9', False, 2, 2, 1, 3), 'R49'): -0.5, (('CR11', False, 2, 2, 1, 3), 'R26'): -0.5, (('OSB', False, 2, 2, 1, 3), 'R27'): 3.25, (('NB', True, 1, 2, 1, 3), 'R33'): -0.5, (('ADB1', True, 1, 2, 1, 3), 'R33'): -0.5, (('NB', True, 1, 2, 1, 3), 'R29'): -0.5, (('CR21', True, 1, 2, 1, 3), 'R29'): -0.5, (('NB', True, 1, 2, 1, 3), 'R32'): -0.5, (('CR21', True, 1, 2, 1, 3), 'R32'): -0.5, (('NB', True, 1, 2, 1, 3), 'R79'): -0.5, (('CR23', True, 1, 2, 1, 3), 'R79'): -0.575, (('OSB', False, 1, 2, 1, 4), 'R26'): -0.5, (('CR11', False, 1, 2, 1, 4), 'R49'): -0.5, (('CR9', False, 1, 2, 1, 4), 'R49'): -0.5, (('CR11', False, 1, 2, 1, 4), 'R26'): -0.5, (('OSB', False, 1, 2, 1, 4), 'R27'): 3.233125, (('DCR', True, 0, 2, 1, 4), 'R72'): -0.5, (('CR24', True, 0, 2, 1, 4), 'R72'): -0.012500000000000011, (('CR23', True, 0, 2, 1, 4), 'R76'): 7.075602343749999, (('HG', True, 0, 1, 2, 4), 'R38'): -0.5, (('CR27', True, 0, 1, 2, 4), 'R38'): -0.5, (('HG', True, 0, 1, 2, 4), 'R36'): -0.5, (('SB', True, 0, 1, 2, 4), 'R39'): -0.5, (('CR27', True, 0, 1, 2, 4), 'R39'): -0.5, (('SB', True, 0, 1, 2, 4), 'R40'): 7.075602343749999, (('HG', True, 0, 0, 3, 4), 'R38'): -0.5, (('CR27', True, 0, 0, 3, 4), 'R38'): -0.5, (('HG', True, 0, 0, 3, 4), 'R36'): -0.5, (('SB', True, 0, 0, 3, 4), 'R39'): -0.5, (('CR27', True, 0, 0, 3, 4), 'R39'): -0.5, (('SB', True, 0, 0, 3, 4), 'R40'): 17.78125, (('AB', False, 0, 0, 4, 4), 'R73'): 250.0, (('CR21', False, 4, 4, 0, 0), 'R32'): 5.125, (('ADB1', True, 3, 4, 0, 0), 'R34'): -0.5, (('HB', True, 3, 4, 0, 0), 'R24'): -0.5, (('ADB', True, 3, 4, 0, 0), 'R25'): -0.5, (('CR11', True, 3, 4, 0, 0), 'R49'): -0.5, (('CR9', True, 3, 4, 0, 0), 'R48'): -0.5, (('CR7', True, 3, 4, 0, 0), 'R48'): -0.5, (('CR9', True, 3, 4, 0, 0), 'R49'): -0.5, (('CR11', True, 3, 4, 0, 0), 'R26'): 5.125, (('CR21', False, 3, 4, 0, 1), 'R32'): 5.125, (('ADB1', True, 2, 4, 0, 1), 'R34'): -0.5, (('HB', True, 2, 4, 0, 1), 'R24'): -0.5, (('ADB', True, 2, 4, 0, 1), 'R25'): -0.5, (('CR11', True, 2, 4, 0, 1), 'R49'): -0.5, (('CR9', True, 2, 4, 0, 1), 'R48'): -0.5, (('CR7', True, 2, 4, 0, 1), 'R48'): -0.5, (('CR9', True, 2, 4, 0, 1), 'R49'): -0.5, (('CR11', True, 2, 4, 0, 1), 'R26'): 5.125, (('CR21', False, 2, 4, 0, 2), 'R32'): 5.125, (('ADB1', True, 1, 4, 0, 2), 'R34'): -0.5, (('HB', True, 1, 4, 0, 2), 'R24'): -0.5, (('ADB', True, 1, 4, 0, 2), 'R25'): -0.5, (('CR11', True, 1, 4, 0, 2), 'R49'): -0.5, (('CR9', True, 1, 4, 0, 2), 'R48'): -0.5, (('CR7', True, 1, 4, 0, 2), 'R48'): -0.5, (('CR9', True, 1, 4, 0, 2), 'R49'): -0.5, (('CR11', True, 1, 4, 0, 2), 'R26'): 5.125, (('CR21', False, 1, 4, 0, 3), 'R32'): 5.125, (('ADB1', True, 0, 4, 0, 3), 'R34'): -0.5, (('HB', True, 0, 4, 0, 3), 'R24'): -0.5, (('ADB', True, 0, 4, 0, 3), 'R25'): -0.5, (('CR11', True, 0, 4, 0, 3), 'R49'): -0.5, (('CR9', True, 0, 4, 0, 3), 'R48'): -0.5, (('CR7', True, 0, 4, 0, 3), 'R48'): -0.5, (('CR9', True, 0, 4, 0, 3), 'R49'): -0.5, (('CR11', True, 0, 4, 0, 3), 'R26'): 5.11375, (('CR23', False, 0, 4, 0, 4), 'R76'): -0.012500000000000011, (('AB', False, 0, 4, 0, 4), 'R35'): -0.5, (('HP', False, 0, 4, 0, 4), 'R80'): 5.11375, (('CR11', False, 0, 3, 1, 4), 'R25'): -0.75, (('ADB', False, 0, 3, 1, 4), 'R25'): -0.575, (('HG', True, 0, 2, 1, 4), 'R38'): -0.5, (('CR27', True, 0, 2, 1, 4), 'R38'): -0.5, (('HG', True, 0, 2, 1, 4), 'R36'): -0.5, (('SB', True, 0, 2, 1, 4), 'R39'): -0.5, (('CR27', True, 0, 2, 1, 4), 'R39'): -0.5, (('SB', True, 0, 2, 1, 4), 'R40'): 7.257949609375, (('AB', False, 0, 0, 4, 4), 'R75'): 250.0, (('ADB', True, 4, 3, 0, 0), 'R1'): -0.825, (('CR1', True, 4, 3, 0, 0), 'R5'): -0.825, (('MG', True, 4, 3, 0, 0), 'R5'): -0.8362499999999999, (('CR1', True, 4, 3, 0, 0), 'R1'): -0.7959375, (('CR11', True, 4, 3, 0, 0), 'R25'): -0.575, (('NB', True, 4, 3, 0, 0), 'R33'): -0.539375, (('AB', False, 4, 3, 1, 0), 'R40'): -0.5, (('SB', False, 4, 3, 1, 0), 'R39'): -0.5, (('CR27', False, 4, 3, 1, 0), 'R38'): -0.5, (('HG', False, 4, 3, 1, 0), 'R23'): -0.012500000000000011, (('HP', False, 4, 3, 1, 0), 'R23'): -0.5, (('HG', False, 4, 3, 1, 0), 'R38'): -0.5, (('CR27', False, 4, 3, 1, 0), 'R39'): -0.5, (('SB', False, 4, 3, 1, 0), 'R40'): -0.5, (('AB', False, 4, 3, 1, 0), 'R71'): -0.5, (('DCR', False, 4, 3, 1, 0), 'R30'): -0.5, (('CR21', False, 4, 3, 1, 0), 'R29'): 3.25, (('NB', True, 3, 3, 1, 0), 'R33'): -0.5, (('ADB1', True, 3, 3, 1, 0), 'R33'): -0.5, (('NB', True, 3, 3, 1, 0), 'R29'): -0.5, (('CR21', True, 3, 3, 1, 0), 'R29'): -0.5, (('NB', True, 3, 3, 1, 0), 'R32'): -0.5, (('CR21', True, 3, 3, 1, 0), 'R32'): -0.5, (('NB', True, 3, 3, 1, 0), 'R79'): -0.5, (('CR23', True, 3, 3, 1, 0), 'R79'): -0.575, (('OSB', False, 3, 3, 1, 1), 'R26'): -0.5, (('CR11', False, 3, 3, 1, 1), 'R49'): -0.5, (('CR9', False, 3, 3, 1, 1), 'R49'): -0.5, (('CR11', False, 3, 3, 1, 1), 'R26'): -0.5, (('OSB', False, 3, 3, 1, 1), 'R27'): 3.25, (('NB', True, 2, 3, 1, 1), 'R33'): -0.5, (('ADB1', True, 2, 3, 1, 1), 'R33'): -0.5, (('NB', True, 2, 3, 1, 1), 'R29'): -0.5, (('CR21', True, 2, 3, 1, 1), 'R29'): -0.5, (('NB', True, 2, 3, 1, 1), 'R32'): -0.5, (('CR21', True, 2, 3, 1, 1), 'R32'): -0.5, (('NB', True, 2, 3, 1, 1), 'R79'): -0.5, (('CR23', True, 2, 3, 1, 1), 'R79'): -0.575, (('OSB', False, 2, 3, 1, 2), 'R26'): -0.5, (('CR11', False, 2, 3, 1, 2), 'R49'): -0.5, (('CR9', False, 2, 3, 1, 2), 'R49'): -0.5, (('CR11', False, 2, 3, 1, 2), 'R26'): -0.5, (('OSB', False, 2, 3, 1, 2), 'R27'): 3.25, (('NB', True, 1, 3, 1, 2), 'R33'): -0.5, (('ADB1', True, 1, 3, 1, 2), 'R33'): -0.5, (('NB', True, 1, 3, 1, 2), 'R29'): -0.5, (('CR21', True, 1, 3, 1, 2), 'R29'): -0.5, (('NB', True, 1, 3, 1, 2), 'R32'): -0.5, (('CR21', True, 1, 3, 1, 2), 'R32'): -0.5, (('NB', True, 1, 3, 1, 2), 'R79'): -0.5, (('CR23', True, 1, 3, 1, 2), 'R79'): -0.575, (('OSB', False, 1, 3, 1, 3), 'R26'): -0.5, (('CR11', False, 1, 3, 1, 3), 'R49'): -0.5, (('CR9', False, 1, 3, 1, 3), 'R49'): -0.5, (('CR11', False, 1, 3, 1, 3), 'R26'): -0.5, (('OSB', False, 1, 3, 1, 3), 'R27'): 3.25, (('NB', True, 0, 3, 1, 3), 'R33'): -0.5, (('ADB1', True, 0, 3, 1, 3), 'R33'): -0.5, (('NB', True, 0, 3, 1, 3), 'R29'): -0.5, (('CR21', True, 0, 3, 1, 3), 'R29'): -0.5, (('NB', True, 0, 3, 1, 3), 'R32'): -0.5, (('CR21', True, 0, 3, 1, 3), 'R32'): -0.5, (('NB', True, 0, 3, 1, 3), 'R79'): -0.5, (('CR23', True, 0, 3, 1, 3), 'R79'): -0.575, (('ADB', False, 0, 3, 1, 4), 'R24'): 7.163705910156249, (('CR7', True, 4, 3, 0, 0), 'R44'): 5.125, (('CR21', False, 4, 3, 0, 1), 'R32'): 5.125, (('ADB1', True, 3, 3, 0, 1), 'R34'): -0.5, (('HB', True, 3, 3, 0, 1), 'R24'): -0.5, (('ADB', True, 3, 3, 0, 1), 'R25'): -0.5, (('CR11', True, 3, 3, 0, 1), 'R49'): -0.5, (('CR9', True, 3, 3, 0, 1), 'R48'): -0.5, (('CR7', True, 3, 3, 0, 1), 'R48'): -0.5, (('CR9', True, 3, 3, 0, 1), 'R49'): -0.5, (('CR11', True, 3, 3, 0, 1), 'R26'): 5.125, (('CR21', False, 3, 3, 0, 2), 'R32'): 5.125, (('ADB1', True, 2, 3, 0, 2), 'R34'): -0.5, (('HB', True, 2, 3, 0, 2), 'R24'): -0.5, (('ADB', True, 2, 3, 0, 2), 'R25'): -0.5, (('CR11', True, 2, 3, 0, 2), 'R49'): -0.5, (('CR9', True, 2, 3, 0, 2), 'R48'): -0.5, (('CR7', True, 2, 3, 0, 2), 'R48'): -0.5, (('CR9', True, 2, 3, 0, 2), 'R49'): -0.5, (('CR11', True, 2, 3, 0, 2), 'R26'): 5.125, (('CR21', False, 2, 3, 0, 3), 'R32'): 5.125, (('ADB1', True, 1, 3, 0, 3), 'R34'): -0.5, (('HB', True, 1, 3, 0, 3), 'R24'): -0.5, (('ADB', True, 1, 3, 0, 3), 'R25'): -0.5, (('CR11', True, 1, 3, 0, 3), 'R49'): -0.5, (('CR9', True, 1, 3, 0, 3), 'R48'): -0.5, (('CR7', True, 1, 3, 0, 3), 'R48'): -0.5, (('CR9', True, 1, 3, 0, 3), 'R49'): -0.5, (('CR11', True, 1, 3, 0, 3), 'R26'): 5.125, (('CR21', False, 1, 3, 0, 4), 'R32'): 5.11375, (('DCR', True, 0, 3, 0, 4), 'R72'): -0.5, (('CR24', True, 0, 3, 0, 4), 'R72'): -0.012500000000000011, (('CR23', True, 0, 3, 0, 4), 'R76'): 6.961227343749999, (('CR11', False, 0, 2, 2, 4), 'R25'): -0.5, (('ADB', False, 0, 2, 2, 4), 'R25'): -0.575, (('CR11', False, 0, 1, 3, 4), 'R25'): -0.5, (('ADB', False, 0, 1, 3, 4), 'R25'): -0.575}\n"
          ]
        }
      ],
      "source": [
        "# Learning part:\n",
        "q, n = {}, {}\n",
        "q_dict,n_dict,all_states=simulate(lambda: ZC_Agent(map_dict,500,50,0.3,3000),Int_check=True,intermediate_q_num=10, n_iterations=10, q=q, n=n, f=lambda q, n:1/(n+1))\n",
        "print(\"Learned Q values:\",q)\n"
      ]
    },
    {
      "cell_type": "code",
      "source": [
        "filename = 'after_Exploring_.mp4'\n",
        "#converting the vector of images to a video \n",
        "make_video(filename, all_states,d)"
      ],
      "metadata": {
        "id": "uqxlfYPts5Xp"
      },
      "execution_count": 20,
      "outputs": []
    },
    {
      "cell_type": "markdown",
      "metadata": {
        "id": "U1jSMM-BPpWL"
      },
      "source": [
        "## Random Q-Learning:"
      ]
    },
    {
      "cell_type": "code",
      "execution_count": 21,
      "metadata": {
        "id": "ybuGYEnektnn"
      },
      "outputs": [],
      "source": [
        "\n",
        "# Learning part:\n",
        "q_dict,n_dict,all_states=simulate(lambda: ZC_Agent(map_dict,500,50,0.3,3000),Int_check=True,intermediate_q_num=10,n_iterations=10, f=lambda q,  n:random())\n",
        "\n"
      ]
    },
    {
      "cell_type": "code",
      "source": [
        "filename = 'after_Random_learning.mp4'\n",
        "#converting the vector of images to a video \n",
        "make_video(filename, all_states,d)"
      ],
      "metadata": {
        "id": "Oru4P-wLs3Mt"
      },
      "execution_count": 22,
      "outputs": []
    },
    {
      "cell_type": "markdown",
      "metadata": {
        "id": "A9f4Ar9gPkC_"
      },
      "source": [
        "## Greedy Q-Learning:"
      ]
    },
    {
      "cell_type": "code",
      "execution_count": 32,
      "metadata": {
        "id": "By3YNB0TO5cK",
        "colab": {
          "base_uri": "https://localhost:8080/"
        },
        "outputId": "6e9c2627-b1b1-45a4-d158-228697d4426b"
      },
      "outputs": [
        {
          "output_type": "stream",
          "name": "stdout",
          "text": [
            "Learned Q values: {(('MG', False, 4, 4, 0, 0), 'R5'): 0.08461538005574343, (('CR1', False, 4, 4, 0, 0), 'R5'): -1.1172963994789125, (('CR1', False, 4, 4, 0, 0), 'R1'): 3.615384600185812, (('ADB', False, 4, 4, 0, 0), 'R25'): -0.849921875, (('CR11', False, 4, 4, 0, 0), 'R49'): -1.16259375, (('CR9', False, 4, 4, 0, 0), 'R48'): -1.10625, (('CR7', False, 4, 4, 0, 0), 'R48'): -1.03625, (('CR9', False, 4, 4, 0, 0), 'R49'): -0.963125, (('CR11', False, 4, 4, 0, 0), 'R26'): -0.20625000000000002, (('OSB', False, 4, 4, 0, 0), 'R44'): -0.8625, (('CR7', False, 4, 4, 0, 0), 'R44'): -0.3875, (('OSB', False, 4, 4, 0, 0), 'R50'): -0.75, (('CR21', False, 4, 4, 0, 0), 'R29'): -0.5, (('NB', False, 4, 4, 0, 0), 'take'): 44.2, (('NB', True, 3, 4, 0, 0), 'R27'): 3.0, (('OSB', True, 3, 4, 0, 0), 'drop'): 44.2375, (('OSB', False, 3, 4, 0, 1), 'R44'): -0.825, (('CR7', False, 3, 4, 0, 1), 'R48'): -0.825, (('CR9', False, 3, 4, 0, 1), 'R48'): -0.825, (('CR7', False, 3, 4, 0, 1), 'R44'): -0.2625, (('OSB', False, 3, 4, 0, 1), 'R50'): -0.75, (('CR21', False, 3, 4, 0, 1), 'R29'): -0.5, (('NB', False, 3, 4, 0, 1), 'take'): 44.2, (('NB', True, 2, 4, 0, 1), 'R27'): 3.0, (('OSB', True, 2, 4, 0, 1), 'drop'): 44.2375, (('OSB', False, 2, 4, 0, 2), 'R44'): -0.825, (('CR7', False, 2, 4, 0, 2), 'R48'): -0.825, (('CR9', False, 2, 4, 0, 2), 'R48'): -0.825, (('CR7', False, 2, 4, 0, 2), 'R44'): -0.2625, (('OSB', False, 2, 4, 0, 2), 'R50'): -0.75, (('CR21', False, 2, 4, 0, 2), 'R29'): -0.5, (('NB', False, 2, 4, 0, 2), 'take'): 44.2, (('NB', True, 1, 4, 0, 2), 'R27'): 3.0, (('OSB', True, 1, 4, 0, 2), 'drop'): 44.2375, (('OSB', False, 1, 4, 0, 3), 'R44'): -0.825, (('CR7', False, 1, 4, 0, 3), 'R48'): -0.825, (('CR9', False, 1, 4, 0, 3), 'R48'): -0.825, (('CR7', False, 1, 4, 0, 3), 'R44'): -0.2625, (('OSB', False, 1, 4, 0, 3), 'R50'): -0.75, (('CR21', False, 1, 4, 0, 3), 'R29'): -0.5, (('NB', False, 1, 4, 0, 3), 'take'): 44.2, (('NB', True, 0, 4, 0, 3), 'R27'): 3.0, (('OSB', True, 0, 4, 0, 3), 'drop'): 43.599999999999994, (('OSB', False, 0, 4, 0, 4), 'R44'): -1.03625, (('CR7', False, 0, 4, 0, 4), 'R48'): -1.03625, (('CR9', False, 0, 4, 0, 4), 'R48'): -1.03625, (('CR7', False, 0, 4, 0, 4), 'R44'): -1.025, (('OSB', False, 0, 4, 0, 4), 'R50'): -1.025, (('CR21', False, 0, 4, 0, 4), 'R29'): -0.95, (('NB', False, 0, 4, 0, 4), 'R27'): -0.825, (('OSB', False, 0, 4, 0, 4), 'R26'): -0.75, (('CR11', False, 0, 4, 0, 4), 'R49'): -0.825, (('CR9', False, 0, 4, 0, 4), 'R49'): -0.825, (('CR11', False, 0, 4, 0, 4), 'R26'): -0.825, (('OSB', False, 0, 4, 0, 4), 'R27'): -0.825, (('NB', False, 0, 4, 0, 4), 'R33'): -0.75, (('ADB1', False, 0, 4, 0, 4), 'R33'): -0.5, (('NB', False, 0, 4, 0, 4), 'R29'): -0.825, (('CR21', False, 0, 4, 0, 4), 'R32'): -0.9874999999999999, (('NB', False, 0, 4, 0, 4), 'R32'): -0.8625, (('CR21', False, 0, 4, 0, 4), 'R30'): -0.75, (('DCR', False, 0, 4, 0, 4), 'R30'): -0.575, (('NB', False, 0, 4, 0, 4), 'R79'): -0.75, (('CR23', False, 0, 4, 0, 4), 'R79'): -0.575, (('ADB1', False, 0, 4, 0, 4), 'R34'): -0.5, (('HB', False, 0, 4, 0, 4), 'take'): 43.6375, (('HB', True, 0, 3, 0, 4), 'R24'): -0.75, (('ADB', True, 0, 3, 0, 4), 'R25'): -0.825, (('CR11', True, 0, 3, 0, 4), 'R49'): -0.825, (('CR9', True, 0, 3, 0, 4), 'R48'): -0.825, (('CR7', True, 0, 3, 0, 4), 'R48'): -0.825, (('CR9', True, 0, 3, 0, 4), 'R49'): -0.825, (('CR11', True, 0, 3, 0, 4), 'R26'): -0.825, (('OSB', True, 0, 3, 0, 4), 'R44'): -0.825, (('CR7', True, 0, 3, 0, 4), 'R44'): -0.825, (('OSB', True, 0, 3, 0, 4), 'R50'): -0.8625, (('CR21', True, 0, 3, 0, 4), 'R29'): -1.1062500000000002, (('NB', True, 0, 3, 0, 4), 'R27'): -0.95, (('OSB', True, 0, 3, 0, 4), 'R26'): -0.825, (('CR11', True, 0, 3, 0, 4), 'R25'): -0.825, (('ADB', True, 0, 3, 0, 4), 'R24'): -0.825, (('HB', True, 0, 3, 0, 4), 'R34'): -0.825, (('ADB1', True, 0, 3, 0, 4), 'R33'): -1.025, (('NB', True, 0, 3, 0, 4), 'R33'): -1.03625, (('ADB1', True, 0, 3, 0, 4), 'R34'): -0.825, (('HB', True, 0, 3, 0, 4), 'R80'): -0.75, (('HP', True, 0, 3, 0, 4), 'R80'): -0.5, (('HB', True, 0, 3, 0, 4), 'R78'): 6.4116515624999995, (('AB', True, 0, 3, 0, 4), 'drop'): 51.3384140625, (('AB', False, 0, 3, 1, 4), 'R76'): -0.798825, (('CR23', False, 0, 3, 1, 4), 'R79'): -1.0286906249999999, (('NB', False, 0, 3, 1, 4), 'R27'): -1.0875, (('OSB', False, 0, 3, 1, 4), 'R44'): -1.03625, (('CR7', False, 0, 3, 1, 4), 'R48'): -1.03625, (('CR9', False, 0, 3, 1, 4), 'R48'): -1.03625, (('CR7', False, 0, 3, 1, 4), 'R44'): -1.025, (('OSB', False, 0, 3, 1, 4), 'R50'): -1.046689765625, (('CR21', False, 0, 3, 1, 4), 'R29'): -1.0117859375, (('NB', False, 0, 3, 1, 4), 'R33'): 0.2130937499999998, (('ADB1', False, 0, 3, 1, 4), 'R33'): -0.766190625, (('NB', False, 0, 3, 1, 4), 'R29'): -1.03625, (('CR21', False, 0, 3, 1, 4), 'R32'): -1.009940625, (('NB', False, 0, 3, 1, 4), 'R32'): -1.071064765625, (('CR21', False, 0, 3, 1, 4), 'R30'): -0.92939765625, (('DCR', False, 0, 3, 1, 4), 'R30'): -1.1815045312499999, (('NB', False, 0, 3, 1, 4), 'R79'): -0.9002234375, (('CR23', False, 0, 3, 1, 4), 'R75'): -0.04315625000000001, (('AB', False, 0, 3, 1, 4), 'R78'): 9.784375, (('HB', False, 0, 3, 1, 4), 'take'): 52.85207323242187, (('HB', True, 0, 2, 1, 4), 'R24'): -0.8237940898437501, (('ADB', True, 0, 2, 1, 4), 'R25'): -1.12088671875, (('CR11', True, 0, 2, 1, 4), 'R49'): -1.03625, (('CR9', True, 0, 2, 1, 4), 'R48'): -1.03625, (('CR7', True, 0, 2, 1, 4), 'R48'): -1.03625, (('CR9', True, 0, 2, 1, 4), 'R49'): -1.0222578125, (('CR11', True, 0, 2, 1, 4), 'R26'): -0.95, (('OSB', True, 0, 2, 1, 4), 'R44'): -1.03625, (('CR7', True, 0, 2, 1, 4), 'R44'): -1.03625, (('OSB', True, 0, 2, 1, 4), 'R50'): -0.970625, (('CR21', True, 0, 2, 1, 4), 'R29'): -1.0875, (('NB', True, 0, 2, 1, 4), 'R27'): -1.1175, (('OSB', True, 0, 2, 1, 4), 'R26'): -0.825, (('CR11', True, 0, 2, 1, 4), 'R25'): -0.7112940898437501, (('ADB', True, 0, 2, 1, 4), 'R24'): 1.8596987988281244, (('HB', True, 0, 2, 1, 4), 'R34'): -0.8697315898437501, (('ADB1', True, 0, 2, 1, 4), 'R33'): -0.9737, (('NB', True, 0, 2, 1, 4), 'R33'): -1.02421875, (('ADB1', True, 0, 2, 1, 4), 'R34'): 0.9491852343749997, (('HB', True, 0, 2, 1, 4), 'R80'): 0.2156249999999999, (('HP', True, 0, 2, 1, 4), 'R80'): 0.12187499999999996, (('HB', True, 0, 2, 1, 4), 'R78'): 12.296541210937498, (('AB', True, 0, 2, 1, 4), 'drop'): 53.561002775097656, (('AB', False, 0, 2, 2, 4), 'R76'): -0.625309765625, (('CR23', False, 0, 2, 2, 4), 'R79'): -1.0273480078125, (('NB', False, 0, 2, 2, 4), 'R27'): -1.0499999999999998, (('OSB', False, 0, 2, 2, 4), 'R44'): -0.825, (('CR7', False, 0, 2, 2, 4), 'R48'): -0.825, (('CR9', False, 0, 2, 2, 4), 'R48'): -0.825, (('CR7', False, 0, 2, 2, 4), 'R44'): -0.825, (('OSB', False, 0, 2, 2, 4), 'R50'): -0.87375, (('CR21', False, 0, 2, 2, 4), 'R29'): -1.0585980078125, (('NB', False, 0, 2, 2, 4), 'R33'): 1.1073064168457027, (('ADB1', False, 0, 2, 2, 4), 'R33'): -0.766190625, (('NB', False, 0, 2, 2, 4), 'R29'): -1.046689765625, (('CR21', False, 0, 2, 2, 4), 'R32'): -1.009940625, (('NB', False, 0, 2, 2, 4), 'R32'): -1.071064765625, (('CR21', False, 0, 2, 2, 4), 'R30'): -0.7932, (('DCR', False, 0, 2, 2, 4), 'R30'): -1.1970123828124999, (('NB', False, 0, 2, 2, 4), 'R79'): -0.7119500000000001, (('CR23', False, 0, 2, 2, 4), 'R75'): 1.8086015625, (('AB', False, 0, 2, 2, 4), 'R78'): 13.332277615234375, (('HB', False, 0, 2, 2, 4), 'take'): 53.997599047851566, (('HB', True, 0, 1, 2, 4), 'R24'): -0.8237940898437501, (('ADB', True, 0, 1, 2, 4), 'R25'): -1.1035078125, (('CR11', True, 0, 1, 2, 4), 'R49'): -1.03625, (('CR9', True, 0, 1, 2, 4), 'R48'): -1.03625, (('CR7', True, 0, 1, 2, 4), 'R48'): -1.03625, (('CR9', True, 0, 1, 2, 4), 'R49'): -1.0222578125, (('CR11', True, 0, 1, 2, 4), 'R26'): -0.95, (('OSB', True, 0, 1, 2, 4), 'R44'): -0.825, (('CR7', True, 0, 1, 2, 4), 'R44'): -0.825, (('OSB', True, 0, 1, 2, 4), 'R50'): -0.825, (('CR21', True, 0, 1, 2, 4), 'R29'): -0.95, (('NB', True, 0, 1, 2, 4), 'R27'): -0.9874999999999999, (('OSB', True, 0, 1, 2, 4), 'R26'): -0.8597578125, (('CR11', True, 0, 1, 2, 4), 'R25'): -0.7112940898437501, (('ADB', True, 0, 1, 2, 4), 'R24'): 1.8392996484374995, (('HB', True, 0, 1, 2, 4), 'R34'): -0.9873878398437501, (('ADB1', True, 0, 1, 2, 4), 'R33'): -1.10625, (('NB', True, 0, 1, 2, 4), 'R33'): -0.8289503398437501, (('ADB1', True, 0, 1, 2, 4), 'R34'): 1.6025808984374994, (('HB', True, 0, 1, 2, 4), 'R80'): 0.3765624999999999, (('HP', True, 0, 1, 2, 4), 'R80'): 0.12187499999999996, (('HB', True, 0, 1, 2, 4), 'R78'): 14.8511705078125, (('AB', True, 0, 1, 2, 4), 'drop'): 54.75344403076171, (('AB', False, 0, 1, 3, 4), 'R76'): -0.6124953124999999, (('CR23', False, 0, 1, 3, 4), 'R79'): -1.0273480078125, (('NB', False, 0, 1, 3, 4), 'R27'): -1.0499999999999998, (('OSB', False, 0, 1, 3, 4), 'R44'): -0.825, (('CR7', False, 0, 1, 3, 4), 'R48'): -0.825, (('CR9', False, 0, 1, 3, 4), 'R48'): -0.825, (('CR7', False, 0, 1, 3, 4), 'R44'): -0.825, (('OSB', False, 0, 1, 3, 4), 'R50'): -0.87375, (('CR21', False, 0, 1, 3, 4), 'R29'): -1.0585980078125, (('NB', False, 0, 1, 3, 4), 'R33'): 1.2107045898437496, (('ADB1', False, 0, 1, 3, 4), 'R33'): -0.766190625, (('NB', False, 0, 1, 3, 4), 'R29'): -1.046689765625, (('CR21', False, 0, 1, 3, 4), 'R32'): -1.009940625, (('NB', False, 0, 1, 3, 4), 'R32'): -1.071064765625, (('CR21', False, 0, 1, 3, 4), 'R30'): -0.788928515625, (('DCR', False, 0, 1, 3, 4), 'R30'): -1.19637166015625, (('NB', False, 0, 1, 3, 4), 'R79'): -0.7076785156250001, (('CR23', False, 0, 1, 3, 4), 'R75'): 1.8797929687500003, (('AB', False, 0, 1, 3, 4), 'R78'): 17.138338317871096, (('HB', False, 0, 1, 3, 4), 'take'): 65.1844253540039, (('HB', True, 0, 0, 3, 4), 'R24'): -0.30453125000000003, (('ADB', True, 0, 0, 3, 4), 'R25'): -1.0750312499999999, (('CR11', True, 0, 0, 3, 4), 'R49'): -1.03625, (('CR9', True, 0, 0, 3, 4), 'R48'): -1.03625, (('CR7', True, 0, 0, 3, 4), 'R48'): -1.03625, (('CR9', True, 0, 0, 3, 4), 'R49'): -0.99378125, (('CR11', True, 0, 0, 3, 4), 'R26'): -0.95, (('OSB', True, 0, 0, 3, 4), 'R44'): -0.825, (('CR7', True, 0, 0, 3, 4), 'R44'): -0.825, (('OSB', True, 0, 0, 3, 4), 'R50'): -0.825, (('CR21', True, 0, 0, 3, 4), 'R29'): -0.95, (('NB', True, 0, 0, 3, 4), 'R27'): -0.9874999999999999, (('OSB', True, 0, 0, 3, 4), 'R26'): -0.83128125, (('CR11', True, 0, 0, 3, 4), 'R25'): -0.1920312500000001, (('ADB', True, 0, 0, 3, 4), 'R24'): 5.96484375, (('HB', True, 0, 0, 3, 4), 'R34'): -0.65796875, (('ADB1', True, 0, 0, 3, 4), 'R33'): -1.10625, (('NB', True, 0, 0, 3, 4), 'R33'): 1.0326770019531248, (('ADB1', True, 0, 0, 3, 4), 'R34'): 12.661752319335937, (('HB', True, 0, 0, 3, 4), 'R80'): 1.8531250000000001, (('HP', True, 0, 0, 3, 4), 'R80'): 1.3874999999999997, (('HB', True, 0, 0, 3, 4), 'R78'): 57.13999938964844, (('AB', True, 0, 0, 3, 4), 'drop'): 198.60763549804688, (('AB', False, 0, 0, 4, 4), 'R76'): 499.51171875, (('ADB', False, 4, 4, 0, 0), 'R24'): 15.384615333952706, (('HB', False, 4, 4, 0, 0), 'take'): 54.615384446509026, (('HB', True, 4, 3, 0, 0), 'R24'): -0.9459375, (('ADB', True, 4, 3, 0, 0), 'R25'): -0.95, (('CR11', True, 4, 3, 0, 0), 'R49'): -0.825, (('CR9', True, 4, 3, 0, 0), 'R48'): -0.75, (('CR7', True, 4, 3, 0, 0), 'R48'): -0.5, (('CR9', True, 4, 3, 0, 0), 'R49'): -0.5, (('CR11', True, 4, 3, 0, 0), 'R26'): -0.5, (('OSB', True, 4, 3, 0, 0), 'drop'): 44.2375, (('OSB', False, 4, 3, 0, 1), 'R44'): -0.825, (('CR7', False, 4, 3, 0, 1), 'R48'): -0.825, (('CR9', False, 4, 3, 0, 1), 'R48'): -0.825, (('CR7', False, 4, 3, 0, 1), 'R44'): -0.2625, (('OSB', False, 4, 3, 0, 1), 'R50'): -0.75, (('CR21', False, 4, 3, 0, 1), 'R29'): -0.5, (('NB', False, 4, 3, 0, 1), 'take'): 44.2, (('NB', True, 3, 3, 0, 1), 'R27'): 3.0, (('OSB', True, 3, 3, 0, 1), 'drop'): 44.2375, (('OSB', False, 3, 3, 0, 2), 'R44'): -0.825, (('CR7', False, 3, 3, 0, 2), 'R48'): -0.825, (('CR9', False, 3, 3, 0, 2), 'R48'): -0.825, (('CR7', False, 3, 3, 0, 2), 'R44'): -0.2625, (('OSB', False, 3, 3, 0, 2), 'R50'): -0.75, (('CR21', False, 3, 3, 0, 2), 'R29'): -0.5, (('NB', False, 3, 3, 0, 2), 'take'): 44.2, (('NB', True, 2, 3, 0, 2), 'R27'): 3.0, (('OSB', True, 2, 3, 0, 2), 'drop'): 44.2375, (('OSB', False, 2, 3, 0, 3), 'R44'): -0.825, (('CR7', False, 2, 3, 0, 3), 'R48'): -0.825, (('CR9', False, 2, 3, 0, 3), 'R48'): -0.825, (('CR7', False, 2, 3, 0, 3), 'R44'): -0.2625, (('OSB', False, 2, 3, 0, 3), 'R50'): -0.75, (('CR21', False, 2, 3, 0, 3), 'R29'): -0.5, (('NB', False, 2, 3, 0, 3), 'take'): 44.2, (('NB', True, 1, 3, 0, 3), 'R27'): 3.0, (('OSB', True, 1, 3, 0, 3), 'drop'): 44.2375, (('OSB', False, 1, 3, 0, 4), 'R44'): -0.825, (('CR7', False, 1, 3, 0, 4), 'R48'): -0.825, (('CR9', False, 1, 3, 0, 4), 'R48'): -0.825, (('CR7', False, 1, 3, 0, 4), 'R44'): -0.2625, (('OSB', False, 1, 3, 0, 4), 'R50'): -0.75, (('CR21', False, 1, 3, 0, 4), 'R29'): -0.5, (('NB', False, 1, 3, 0, 4), 'take'): 43.599999999999994, (('NB', True, 0, 3, 0, 4), 'R29'): -1.025, (('CR21', True, 0, 3, 0, 4), 'R32'): -1.025, (('NB', True, 0, 3, 0, 4), 'R32'): -1.025, (('CR21', True, 0, 3, 0, 4), 'R30'): -0.3875, (('DCR', True, 0, 3, 0, 4), 'R30'): -0.845625, (('NB', True, 0, 3, 0, 4), 'R79'): -0.10625000000000007, (('CR23', True, 0, 3, 0, 4), 'R79'): -0.575, (('OSB', True, 0, 3, 0, 4), 'R27'): -0.575, (('DCR', True, 0, 3, 0, 4), 'R71'): 3.25, (('AB', False, 0, 3, 1, 4), 'R35'): 0.589234375, (('HP', False, 0, 3, 1, 4), 'R80'): 8.1365625, (('ADB', True, 0, 2, 1, 4), 'R1'): -1.0278828125000001, (('CR1', True, 0, 2, 1, 4), 'R5'): -1.0379375, (('MG', True, 0, 2, 1, 4), 'R5'): -1.0335078125, (('CR1', True, 0, 2, 1, 4), 'R1'): -0.7300440898437501, (('OSB', True, 0, 2, 1, 4), 'R27'): -0.8625, (('NB', True, 0, 2, 1, 4), 'R29'): -1.070625, (('CR21', True, 0, 2, 1, 4), 'R32'): -0.99705, (('NB', True, 0, 2, 1, 4), 'R32'): -1.0437500000000002, (('CR21', True, 0, 2, 1, 4), 'R30'): -0.20625000000000002, (('DCR', True, 0, 2, 1, 4), 'R30'): -0.845625, (('NB', True, 0, 2, 1, 4), 'R79'): 0.10299999999999987, (('CR23', True, 0, 2, 1, 4), 'R79'): -0.575, (('DCR', True, 0, 2, 1, 4), 'R71'): 9.09334833984375, (('AB', False, 0, 2, 2, 4), 'R35'): 1.7064113552734372, (('HP', False, 0, 2, 2, 4), 'R80'): 11.32573716015625, (('ADB', True, 0, 1, 2, 4), 'R1'): -1.0278828125000001, (('CR1', True, 0, 1, 2, 4), 'R5'): -1.0379375, (('MG', True, 0, 1, 2, 4), 'R5'): -1.0335078125, (('CR1', True, 0, 1, 2, 4), 'R1'): -0.7300440898437501, (('OSB', True, 0, 1, 2, 4), 'R27'): -0.8625, (('NB', True, 0, 1, 2, 4), 'R29'): -0.825, (('CR21', True, 0, 1, 2, 4), 'R32'): -0.825, (('NB', True, 0, 1, 2, 4), 'R32'): -0.8625, (('CR21', True, 0, 1, 2, 4), 'R30'): -0.75, (('DCR', True, 0, 1, 2, 4), 'R30'): -0.575, (('NB', True, 0, 1, 2, 4), 'R79'): 1.1799013220214842, (('CR23', True, 0, 1, 2, 4), 'R79'): -0.575, (('DCR', True, 0, 1, 2, 4), 'R71'): 3.25, (('AB', False, 0, 1, 3, 4), 'R35'): 1.777181640625, (('HP', False, 0, 1, 3, 4), 'R80'): 11.7975390625, (('ADB', True, 0, 0, 3, 4), 'R1'): -0.9994062499999999, (('CR1', True, 0, 0, 3, 4), 'R5'): -1.0379375, (('MG', True, 0, 0, 3, 4), 'R5'): -1.00503125, (('CR1', True, 0, 0, 3, 4), 'R1'): -0.21078125000000003, (('OSB', True, 0, 0, 3, 4), 'R27'): -0.8625, (('NB', True, 0, 0, 3, 4), 'R29'): -0.825, (('CR21', True, 0, 0, 3, 4), 'R32'): -0.825, (('NB', True, 0, 0, 3, 4), 'R32'): -0.8625, (('CR21', True, 0, 0, 3, 4), 'R30'): -0.75, (('DCR', True, 0, 0, 3, 4), 'R30'): -0.575, (('NB', True, 0, 0, 3, 4), 'R79'): -0.75, (('CR23', True, 0, 0, 3, 4), 'R79'): -0.575, (('DCR', True, 0, 0, 3, 4), 'R71'): 3.25, (('AB', False, 0, 0, 4, 4), 'R78'): 375.0, (('ADB', False, 4, 4, 0, 0), 'R1'): -0.4181891967773439, (('CR11', False, 4, 4, 0, 0), 'R25'): 1.721625, (('HB', True, 4, 3, 0, 0), 'R34'): -0.95, (('ADB1', True, 4, 3, 0, 0), 'R33'): -0.2625, (('NB', True, 4, 3, 0, 0), 'R27'): 3.25, (('OSB', False, 4, 3, 0, 1), 'R26'): -0.5, (('CR11', False, 4, 3, 0, 1), 'R49'): -0.5, (('CR9', False, 4, 3, 0, 1), 'R49'): -0.5, (('CR11', False, 4, 3, 0, 1), 'R26'): -0.5, (('OSB', False, 4, 3, 0, 1), 'R27'): 3.25, (('NB', True, 3, 3, 0, 1), 'R33'): -0.75, (('ADB1', True, 3, 3, 0, 1), 'R33'): -0.5, (('NB', True, 3, 3, 0, 1), 'R29'): -0.5, (('CR21', True, 3, 3, 0, 1), 'R29'): -0.5, (('NB', True, 3, 3, 0, 1), 'R32'): -0.5, (('CR21', True, 3, 3, 0, 1), 'R32'): -0.5, (('NB', True, 3, 3, 0, 1), 'R79'): -0.5, (('CR23', True, 3, 3, 0, 1), 'R79'): -0.575, (('OSB', False, 3, 3, 0, 2), 'R26'): -0.5, (('CR11', False, 3, 3, 0, 2), 'R49'): -0.5, (('CR9', False, 3, 3, 0, 2), 'R49'): -0.5, (('CR11', False, 3, 3, 0, 2), 'R26'): -0.5, (('OSB', False, 3, 3, 0, 2), 'R27'): 3.25, (('NB', True, 2, 3, 0, 2), 'R33'): -0.75, (('ADB1', True, 2, 3, 0, 2), 'R33'): -0.5, (('NB', True, 2, 3, 0, 2), 'R29'): -0.5, (('CR21', True, 2, 3, 0, 2), 'R29'): -0.5, (('NB', True, 2, 3, 0, 2), 'R32'): -0.5, (('CR21', True, 2, 3, 0, 2), 'R32'): -0.5, (('NB', True, 2, 3, 0, 2), 'R79'): -0.5, (('CR23', True, 2, 3, 0, 2), 'R79'): -0.575, (('OSB', False, 2, 3, 0, 3), 'R26'): -0.5, (('CR11', False, 2, 3, 0, 3), 'R49'): -0.5, (('CR9', False, 2, 3, 0, 3), 'R49'): -0.5, (('CR11', False, 2, 3, 0, 3), 'R26'): -0.5, (('OSB', False, 2, 3, 0, 3), 'R27'): 3.25, (('NB', True, 1, 3, 0, 3), 'R33'): -0.75, (('ADB1', True, 1, 3, 0, 3), 'R33'): -0.5, (('NB', True, 1, 3, 0, 3), 'R29'): -0.5, (('CR21', True, 1, 3, 0, 3), 'R29'): -0.5, (('NB', True, 1, 3, 0, 3), 'R32'): -0.5, (('CR21', True, 1, 3, 0, 3), 'R32'): -0.5, (('NB', True, 1, 3, 0, 3), 'R79'): -0.5, (('CR23', True, 1, 3, 0, 3), 'R79'): -0.575, (('OSB', False, 1, 3, 0, 4), 'R26'): -0.5, (('CR11', False, 1, 3, 0, 4), 'R49'): -0.5, (('CR9', False, 1, 3, 0, 4), 'R49'): -0.5, (('CR11', False, 1, 3, 0, 4), 'R26'): -0.5, (('OSB', False, 1, 3, 0, 4), 'R27'): 3.25, (('CR23', True, 0, 3, 0, 4), 'R75'): 5.125, (('AB', False, 0, 3, 1, 4), 'R40'): -0.7673515625, (('SB', False, 0, 3, 1, 4), 'R39'): -1.02528125, (('CR27', False, 0, 3, 1, 4), 'R38'): -0.8787499999999999, (('HG', False, 0, 3, 1, 4), 'R23'): 0.711109375, (('HP', False, 0, 3, 1, 4), 'R23'): -0.7528125, (('HG', False, 0, 3, 1, 4), 'R38'): -0.825, (('CR27', False, 0, 3, 1, 4), 'R39'): -0.825, (('SB', False, 0, 3, 1, 4), 'R40'): 0.7176562500000001, (('AB', False, 0, 3, 1, 4), 'R71'): -0.75840078125, (('DCR', False, 0, 3, 1, 4), 'R71'): 1.027328125, (('AB', False, 0, 3, 1, 4), 'R74'): -0.8945984375, (('CR24', False, 0, 3, 1, 4), 'R72'): -0.7119500000000001, (('DCR', False, 0, 3, 1, 4), 'R72'): -0.8945984375, (('CR24', False, 0, 3, 1, 4), 'R74'): 1.027328125, (('AB', False, 0, 3, 1, 4), 'R73'): -0.7119500000000001, (('CR24', False, 0, 3, 1, 4), 'R73'): 1.027328125, (('AB', False, 0, 3, 1, 4), 'R75'): -0.9058484375, (('CR23', False, 0, 3, 1, 4), 'R76'): 1.008578125, (('OSB', False, 0, 3, 1, 4), 'R26'): -0.95, (('CR11', False, 0, 3, 1, 4), 'R49'): -0.825, (('CR9', False, 0, 3, 1, 4), 'R49'): -0.825, (('CR11', False, 0, 3, 1, 4), 'R26'): -0.8362499999999999, (('OSB', False, 0, 3, 1, 4), 'R27'): -0.9, (('ADB1', False, 0, 3, 1, 4), 'R34'): 9.859152615234374, (('HP', True, 0, 2, 1, 4), 'R23'): -0.75, (('HG', True, 0, 2, 1, 4), 'R23'): -0.5, (('HP', True, 0, 2, 1, 4), 'R35'): 5.125, (('AB', False, 0, 2, 2, 4), 'R40'): -0.639948828125, (('SB', False, 0, 2, 2, 4), 'R39'): -1.1123058984375, (('CR27', False, 0, 2, 2, 4), 'R38'): -0.83270859375, (('HG', False, 0, 2, 2, 4), 'R23'): 1.5544152615234372, (('HP', False, 0, 2, 2, 4), 'R23'): -0.76973984375, (('HG', False, 0, 2, 2, 4), 'R38'): -1.03625, (('CR27', False, 0, 2, 2, 4), 'R39'): -0.6644351562499999, (('SB', False, 0, 2, 2, 4), 'R40'): 2.326724454785156, (('AB', False, 0, 2, 2, 4), 'R71'): -0.625309765625, (('DCR', False, 0, 2, 2, 4), 'R71'): 1.8086015625, (('AB', False, 0, 2, 2, 4), 'R74'): -0.7932, (('CR24', False, 0, 2, 2, 4), 'R72'): -0.584684765625, (('DCR', False, 0, 2, 2, 4), 'R72'): -0.7932, (('CR24', False, 0, 2, 2, 4), 'R74'): 1.8086015625, (('AB', False, 0, 2, 2, 4), 'R73'): -0.584684765625, (('CR24', False, 0, 2, 2, 4), 'R73'): 1.8086015625, (('AB', False, 0, 2, 2, 4), 'R75'): -0.7932, (('CR23', False, 0, 2, 2, 4), 'R76'): 1.7992265625000001, (('OSB', False, 0, 2, 2, 4), 'R26'): -0.95, (('CR11', False, 0, 2, 2, 4), 'R49'): -0.825, (('CR9', False, 0, 2, 2, 4), 'R49'): -0.825, (('CR11', False, 0, 2, 2, 4), 'R26'): -0.8362499999999999, (('OSB', False, 0, 2, 2, 4), 'R27'): -0.86988125, (('ADB1', False, 0, 2, 2, 4), 'R34'): 12.55654145385742, (('HP', True, 0, 1, 2, 4), 'R23'): -0.75, (('HG', True, 0, 1, 2, 4), 'R23'): -0.5, (('HP', True, 0, 1, 2, 4), 'R35'): 9.971394140625, (('AB', False, 0, 1, 3, 4), 'R40'): -0.62606650390625, (('SB', False, 0, 1, 3, 4), 'R39'): -1.110704091796875, (('CR27', False, 0, 1, 3, 4), 'R38'): -0.83270859375, (('HG', False, 0, 1, 3, 4), 'R23'): 1.625185546875, (('HP', False, 0, 1, 3, 4), 'R23'): -0.76973984375, (('HG', False, 0, 1, 3, 4), 'R38'): -1.03625, (('CR27', False, 0, 1, 3, 4), 'R39'): -0.6537564453125, (('SB', False, 0, 1, 3, 4), 'R40'): 2.4755947265625, (('AB', False, 0, 1, 3, 4), 'R71'): -0.6124953124999999, (('DCR', False, 0, 1, 3, 4), 'R71'): 1.8797929687500003, (('AB', False, 0, 1, 3, 4), 'R74'): -0.788928515625, (('CR24', False, 0, 1, 3, 4), 'R72'): -0.5718703125, (('DCR', False, 0, 1, 3, 4), 'R72'): -0.788928515625, (('CR24', False, 0, 1, 3, 4), 'R74'): 1.8797929687500003, (('AB', False, 0, 1, 3, 4), 'R73'): -0.5718703125, (('CR24', False, 0, 1, 3, 4), 'R73'): 1.8797929687500003, (('AB', False, 0, 1, 3, 4), 'R75'): -0.788928515625, (('CR23', False, 0, 1, 3, 4), 'R76'): 1.8704179687500004, (('OSB', False, 0, 1, 3, 4), 'R26'): -0.95, (('CR11', False, 0, 1, 3, 4), 'R49'): -0.825, (('CR9', False, 0, 1, 3, 4), 'R49'): -0.825, (('CR11', False, 0, 1, 3, 4), 'R26'): -0.8362499999999999, (('OSB', False, 0, 1, 3, 4), 'R27'): -0.86988125, (('ADB1', False, 0, 1, 3, 4), 'R34'): 14.381281280517577, (('HP', True, 0, 0, 3, 4), 'R23'): -0.75, (('HG', True, 0, 0, 3, 4), 'R23'): -0.5, (('HP', True, 0, 0, 3, 4), 'R35'): 23.5078125, (('AB', False, 0, 0, 4, 4), 'R35'): 250.0, (('OSB', False, 4, 4, 0, 0), 'R26'): -0.6825, (('HB', True, 4, 3, 0, 0), 'R80'): -0.3875, (('HP', True, 4, 3, 0, 0), 'R80'): -0.018750000000000044, (('HB', True, 4, 3, 0, 0), 'R78'): 15.384614821696754, (('AB', True, 4, 3, 0, 0), 'drop'): 54.61538273898918, (('AB', False, 4, 3, 1, 0), 'R76'): -0.75, (('CR23', False, 4, 3, 1, 0), 'R79'): -0.5, (('NB', False, 4, 3, 1, 0), 'take'): 37.5, (('NB', True, 3, 3, 1, 0), 'R27'): 3.0, (('OSB', True, 3, 3, 1, 0), 'drop'): 37.5, (('OSB', False, 3, 3, 1, 1), 'R44'): -0.5, (('CR7', False, 3, 3, 1, 1), 'R48'): -0.5, (('CR9', False, 3, 3, 1, 1), 'R48'): -0.5, (('CR7', False, 3, 3, 1, 1), 'R44'): -0.5, (('OSB', False, 3, 3, 1, 1), 'R50'): -0.5, (('CR21', False, 3, 3, 1, 1), 'R29'): -0.5, (('NB', False, 3, 3, 1, 1), 'take'): 37.5, (('NB', True, 2, 3, 1, 1), 'R27'): 3.0, (('OSB', True, 2, 3, 1, 1), 'drop'): 37.5, (('OSB', False, 2, 3, 1, 2), 'R44'): -0.5, (('CR7', False, 2, 3, 1, 2), 'R48'): -0.5, (('CR9', False, 2, 3, 1, 2), 'R48'): -0.5, (('CR7', False, 2, 3, 1, 2), 'R44'): -0.5, (('OSB', False, 2, 3, 1, 2), 'R50'): -0.5, (('CR21', False, 2, 3, 1, 2), 'R29'): -0.5, (('NB', False, 2, 3, 1, 2), 'take'): 37.5, (('NB', True, 1, 3, 1, 2), 'R27'): 3.0, (('OSB', True, 1, 3, 1, 2), 'drop'): 37.5, (('OSB', False, 1, 3, 1, 3), 'R44'): -0.5, (('CR7', False, 1, 3, 1, 3), 'R48'): -0.5, (('CR9', False, 1, 3, 1, 3), 'R48'): -0.5, (('CR7', False, 1, 3, 1, 3), 'R44'): -0.5, (('OSB', False, 1, 3, 1, 3), 'R50'): -0.5, (('CR21', False, 1, 3, 1, 3), 'R29'): -0.5, (('NB', False, 1, 3, 1, 3), 'take'): 37.5, (('NB', True, 0, 3, 1, 3), 'R27'): 2.98875, (('OSB', True, 0, 3, 1, 3), 'drop'): 37.35, (('AB', False, 0, 0, 4, 4), 'R40'): 250.0, (('OSB', False, 4, 4, 0, 0), 'R27'): 3.25, (('NB', True, 3, 4, 0, 0), 'R33'): -0.75, (('ADB1', True, 3, 4, 0, 0), 'R33'): -0.5, (('NB', True, 3, 4, 0, 0), 'R29'): -0.5, (('CR21', True, 3, 4, 0, 0), 'R29'): -0.5, (('NB', True, 3, 4, 0, 0), 'R32'): -0.5, (('CR21', True, 3, 4, 0, 0), 'R32'): -0.5, (('NB', True, 3, 4, 0, 0), 'R79'): -0.5, (('CR23', True, 3, 4, 0, 0), 'R79'): -0.575, (('OSB', False, 3, 4, 0, 1), 'R26'): -0.5, (('CR11', False, 3, 4, 0, 1), 'R49'): -0.5, (('CR9', False, 3, 4, 0, 1), 'R49'): -0.5, (('CR11', False, 3, 4, 0, 1), 'R26'): -0.5, (('OSB', False, 3, 4, 0, 1), 'R27'): 3.25, (('NB', True, 2, 4, 0, 1), 'R33'): -0.75, (('ADB1', True, 2, 4, 0, 1), 'R33'): -0.5, (('NB', True, 2, 4, 0, 1), 'R29'): -0.5, (('CR21', True, 2, 4, 0, 1), 'R29'): -0.5, (('NB', True, 2, 4, 0, 1), 'R32'): -0.5, (('CR21', True, 2, 4, 0, 1), 'R32'): -0.5, (('NB', True, 2, 4, 0, 1), 'R79'): -0.5, (('CR23', True, 2, 4, 0, 1), 'R79'): -0.575, (('OSB', False, 2, 4, 0, 2), 'R26'): -0.5, (('CR11', False, 2, 4, 0, 2), 'R49'): -0.5, (('CR9', False, 2, 4, 0, 2), 'R49'): -0.5, (('CR11', False, 2, 4, 0, 2), 'R26'): -0.5, (('OSB', False, 2, 4, 0, 2), 'R27'): 3.25, (('NB', True, 1, 4, 0, 2), 'R33'): -0.75, (('ADB1', True, 1, 4, 0, 2), 'R33'): -0.5, (('NB', True, 1, 4, 0, 2), 'R29'): -0.5, (('CR21', True, 1, 4, 0, 2), 'R29'): -0.5, (('NB', True, 1, 4, 0, 2), 'R32'): -0.5, (('CR21', True, 1, 4, 0, 2), 'R32'): -0.5, (('NB', True, 1, 4, 0, 2), 'R79'): -0.5, (('CR23', True, 1, 4, 0, 2), 'R79'): -0.575, (('OSB', False, 1, 4, 0, 3), 'R26'): -0.5, (('CR11', False, 1, 4, 0, 3), 'R49'): -0.5, (('CR9', False, 1, 4, 0, 3), 'R49'): -0.5, (('CR11', False, 1, 4, 0, 3), 'R26'): -0.5, (('OSB', False, 1, 4, 0, 3), 'R27'): 3.25, (('NB', True, 0, 4, 0, 3), 'R33'): -0.75, (('ADB1', True, 0, 4, 0, 3), 'R33'): -0.5, (('NB', True, 0, 4, 0, 3), 'R29'): -0.5, (('CR21', True, 0, 4, 0, 3), 'R29'): -0.5, (('NB', True, 0, 4, 0, 3), 'R32'): -0.5, (('CR21', True, 0, 4, 0, 3), 'R32'): -0.5, (('NB', True, 0, 4, 0, 3), 'R79'): -0.5, (('CR23', True, 0, 4, 0, 3), 'R79'): -0.575, (('CR11', False, 0, 4, 0, 4), 'R25'): -0.5, (('ADB', False, 0, 4, 0, 4), 'R25'): -0.575, (('DCR', False, 0, 4, 0, 4), 'R71'): -0.5, (('AB', False, 0, 4, 0, 4), 'R76'): -0.5, (('CR23', False, 0, 4, 0, 4), 'R75'): -0.5, (('AB', False, 0, 4, 0, 4), 'R78'): 3.25, (('ADB', True, 0, 3, 0, 4), 'R1'): -0.5, (('CR1', True, 0, 3, 0, 4), 'R5'): -0.5, (('MG', True, 0, 3, 0, 4), 'R5'): -0.5, (('CR1', True, 0, 3, 0, 4), 'R1'): -0.575, (('HP', True, 0, 3, 0, 4), 'R23'): -0.5, (('HG', True, 0, 3, 0, 4), 'R23'): -0.5, (('HP', True, 0, 3, 0, 4), 'R35'): 6.0625, (('HP', False, 0, 3, 1, 4), 'R35'): 1.152328125, (('SB', False, 0, 3, 1, 4), 'R36'): -0.7528125, (('HG', False, 0, 3, 1, 4), 'R36'): -0.6798515624999999, (('CR23', True, 0, 2, 1, 4), 'R75'): 6.52, (('HP', False, 0, 2, 2, 4), 'R35'): 2.076005704785156, (('SB', False, 0, 2, 2, 4), 'R36'): -0.76973984375, (('HG', False, 0, 2, 2, 4), 'R36'): -0.5918609374999999, (('CR23', True, 0, 1, 2, 4), 'R75'): 13.070095666503907, (('HP', False, 0, 1, 3, 4), 'R35'): 2.2035185546875002, (('SB', False, 0, 1, 3, 4), 'R36'): -0.76973984375, (('HG', False, 0, 1, 3, 4), 'R36'): -0.579046484375, (('CR23', True, 0, 0, 3, 4), 'R75'): 16.375, (('AB', False, 0, 0, 4, 4), 'R71'): 250.0, (('ADB', True, 4, 3, 0, 0), 'R24'): -0.05625000000000002, (('ADB1', True, 4, 3, 0, 0), 'R34'): -0.05625000000000002, (('HP', True, 4, 3, 0, 0), 'R23'): -0.5, (('HG', True, 4, 3, 0, 0), 'R23'): -0.5, (('HP', True, 4, 3, 0, 0), 'R35'): 3.25, (('AB', False, 4, 3, 1, 0), 'R78'): 15.384609129963948, (('HB', False, 4, 3, 1, 0), 'take'): 54.615363766546494, (('HB', True, 4, 2, 1, 0), 'R24'): -0.75, (('ADB', True, 4, 2, 1, 0), 'R25'): -0.5, (('CR11', True, 4, 2, 1, 0), 'R49'): -0.5, (('CR9', True, 4, 2, 1, 0), 'R48'): -0.5, (('CR7', True, 4, 2, 1, 0), 'R48'): -0.5, (('CR9', True, 4, 2, 1, 0), 'R49'): -0.5, (('CR11', True, 4, 2, 1, 0), 'R26'): -0.5, (('OSB', True, 4, 2, 1, 0), 'drop'): 37.5, (('OSB', False, 4, 2, 1, 1), 'R44'): -0.5, (('CR7', False, 4, 2, 1, 1), 'R48'): -0.5, (('CR9', False, 4, 2, 1, 1), 'R48'): -0.5, (('CR7', False, 4, 2, 1, 1), 'R44'): -0.5, (('OSB', False, 4, 2, 1, 1), 'R50'): -0.5, (('CR21', False, 4, 2, 1, 1), 'R29'): -0.5, (('NB', False, 4, 2, 1, 1), 'take'): 37.5, (('NB', True, 3, 2, 1, 1), 'R27'): 3.0, (('OSB', True, 3, 2, 1, 1), 'drop'): 37.5, (('OSB', False, 3, 2, 1, 2), 'R44'): -0.5, (('CR7', False, 3, 2, 1, 2), 'R48'): -0.5, (('CR9', False, 3, 2, 1, 2), 'R48'): -0.5, (('CR7', False, 3, 2, 1, 2), 'R44'): -0.5, (('OSB', False, 3, 2, 1, 2), 'R50'): -0.5, (('CR21', False, 3, 2, 1, 2), 'R29'): -0.5, (('NB', False, 3, 2, 1, 2), 'take'): 37.5, (('NB', True, 2, 2, 1, 2), 'R27'): 3.0, (('OSB', True, 2, 2, 1, 2), 'drop'): 37.5, (('OSB', False, 2, 2, 1, 3), 'R44'): -0.5, (('CR7', False, 2, 2, 1, 3), 'R48'): -0.5, (('CR9', False, 2, 2, 1, 3), 'R48'): -0.5, (('CR7', False, 2, 2, 1, 3), 'R44'): -0.5, (('OSB', False, 2, 2, 1, 3), 'R50'): -0.5, (('CR21', False, 2, 2, 1, 3), 'R29'): -0.5, (('NB', False, 2, 2, 1, 3), 'take'): 37.5, (('NB', True, 1, 2, 1, 3), 'R27'): 3.0, (('OSB', True, 1, 2, 1, 3), 'drop'): 37.5, (('OSB', False, 1, 2, 1, 4), 'R44'): -0.5, (('CR7', False, 1, 2, 1, 4), 'R48'): -0.5, (('CR9', False, 1, 2, 1, 4), 'R48'): -0.5, (('CR7', False, 1, 2, 1, 4), 'R44'): -0.5, (('OSB', False, 1, 2, 1, 4), 'R50'): -0.5, (('CR21', False, 1, 2, 1, 4), 'R29'): -0.5, (('NB', False, 1, 2, 1, 4), 'take'): 37.33125, (('AB', False, 0, 0, 4, 4), 'R74'): 250.0, (('AB', False, 4, 3, 1, 0), 'R35'): -0.5, (('HP', False, 4, 3, 1, 0), 'R80'): 3.25, (('HB', True, 4, 2, 1, 0), 'R34'): -0.75, (('ADB1', True, 4, 2, 1, 0), 'R33'): -0.5, (('NB', True, 4, 2, 1, 0), 'R27'): 3.25, (('OSB', False, 4, 2, 1, 1), 'R26'): -0.5, (('CR11', False, 4, 2, 1, 1), 'R49'): -0.5, (('CR9', False, 4, 2, 1, 1), 'R49'): -0.5, (('CR11', False, 4, 2, 1, 1), 'R26'): -0.5, (('OSB', False, 4, 2, 1, 1), 'R27'): 3.25, (('NB', True, 3, 2, 1, 1), 'R33'): -0.5, (('ADB1', True, 3, 2, 1, 1), 'R33'): -0.5, (('NB', True, 3, 2, 1, 1), 'R29'): -0.5, (('CR21', True, 3, 2, 1, 1), 'R29'): -0.5, (('NB', True, 3, 2, 1, 1), 'R32'): -0.5, (('CR21', True, 3, 2, 1, 1), 'R32'): -0.5, (('NB', True, 3, 2, 1, 1), 'R79'): -0.5, (('CR23', True, 3, 2, 1, 1), 'R79'): -0.575, (('OSB', False, 3, 2, 1, 2), 'R26'): -0.5, (('CR11', False, 3, 2, 1, 2), 'R49'): -0.5, (('CR9', False, 3, 2, 1, 2), 'R49'): -0.5, (('CR11', False, 3, 2, 1, 2), 'R26'): -0.5, (('OSB', False, 3, 2, 1, 2), 'R27'): 3.25, (('NB', True, 2, 2, 1, 2), 'R33'): -0.5, (('ADB1', True, 2, 2, 1, 2), 'R33'): -0.5, (('NB', True, 2, 2, 1, 2), 'R29'): -0.5, (('CR21', True, 2, 2, 1, 2), 'R29'): -0.5, (('NB', True, 2, 2, 1, 2), 'R32'): -0.5, (('CR21', True, 2, 2, 1, 2), 'R32'): -0.5, (('NB', True, 2, 2, 1, 2), 'R79'): -0.5, (('CR23', True, 2, 2, 1, 2), 'R79'): -0.575, (('OSB', False, 2, 2, 1, 3), 'R26'): -0.5, (('CR11', False, 2, 2, 1, 3), 'R49'): -0.5, (('CR9', False, 2, 2, 1, 3), 'R49'): -0.5, (('CR11', False, 2, 2, 1, 3), 'R26'): -0.5, (('OSB', False, 2, 2, 1, 3), 'R27'): 3.25, (('NB', True, 1, 2, 1, 3), 'R33'): -0.5, (('ADB1', True, 1, 2, 1, 3), 'R33'): -0.5, (('NB', True, 1, 2, 1, 3), 'R29'): -0.5, (('CR21', True, 1, 2, 1, 3), 'R29'): -0.5, (('NB', True, 1, 2, 1, 3), 'R32'): -0.5, (('CR21', True, 1, 2, 1, 3), 'R32'): -0.5, (('NB', True, 1, 2, 1, 3), 'R79'): -0.5, (('CR23', True, 1, 2, 1, 3), 'R79'): -0.575, (('OSB', False, 1, 2, 1, 4), 'R26'): -0.5, (('CR11', False, 1, 2, 1, 4), 'R49'): -0.5, (('CR9', False, 1, 2, 1, 4), 'R49'): -0.5, (('CR11', False, 1, 2, 1, 4), 'R26'): -0.5, (('OSB', False, 1, 2, 1, 4), 'R27'): 3.233125, (('DCR', True, 0, 2, 1, 4), 'R72'): -0.5, (('CR24', True, 0, 2, 1, 4), 'R72'): -0.012500000000000011, (('CR23', True, 0, 2, 1, 4), 'R76'): 7.075602343749999, (('HG', True, 0, 1, 2, 4), 'R38'): -0.5, (('CR27', True, 0, 1, 2, 4), 'R38'): -0.5, (('HG', True, 0, 1, 2, 4), 'R36'): -0.5, (('SB', True, 0, 1, 2, 4), 'R39'): -0.5, (('CR27', True, 0, 1, 2, 4), 'R39'): -0.5, (('SB', True, 0, 1, 2, 4), 'R40'): 7.075602343749999, (('HG', True, 0, 0, 3, 4), 'R38'): -0.5, (('CR27', True, 0, 0, 3, 4), 'R38'): -0.5, (('HG', True, 0, 0, 3, 4), 'R36'): -0.5, (('SB', True, 0, 0, 3, 4), 'R39'): -0.5, (('CR27', True, 0, 0, 3, 4), 'R39'): -0.5, (('SB', True, 0, 0, 3, 4), 'R40'): 17.78125, (('AB', False, 0, 0, 4, 4), 'R73'): 250.0, (('CR21', False, 4, 4, 0, 0), 'R32'): 5.125, (('ADB1', True, 3, 4, 0, 0), 'R34'): -0.5, (('HB', True, 3, 4, 0, 0), 'R24'): -0.5, (('ADB', True, 3, 4, 0, 0), 'R25'): -0.5, (('CR11', True, 3, 4, 0, 0), 'R49'): -0.5, (('CR9', True, 3, 4, 0, 0), 'R48'): -0.5, (('CR7', True, 3, 4, 0, 0), 'R48'): -0.5, (('CR9', True, 3, 4, 0, 0), 'R49'): -0.5, (('CR11', True, 3, 4, 0, 0), 'R26'): 5.125, (('CR21', False, 3, 4, 0, 1), 'R32'): 5.125, (('ADB1', True, 2, 4, 0, 1), 'R34'): -0.5, (('HB', True, 2, 4, 0, 1), 'R24'): -0.5, (('ADB', True, 2, 4, 0, 1), 'R25'): -0.5, (('CR11', True, 2, 4, 0, 1), 'R49'): -0.5, (('CR9', True, 2, 4, 0, 1), 'R48'): -0.5, (('CR7', True, 2, 4, 0, 1), 'R48'): -0.5, (('CR9', True, 2, 4, 0, 1), 'R49'): -0.5, (('CR11', True, 2, 4, 0, 1), 'R26'): 5.125, (('CR21', False, 2, 4, 0, 2), 'R32'): 5.125, (('ADB1', True, 1, 4, 0, 2), 'R34'): -0.5, (('HB', True, 1, 4, 0, 2), 'R24'): -0.5, (('ADB', True, 1, 4, 0, 2), 'R25'): -0.5, (('CR11', True, 1, 4, 0, 2), 'R49'): -0.5, (('CR9', True, 1, 4, 0, 2), 'R48'): -0.5, (('CR7', True, 1, 4, 0, 2), 'R48'): -0.5, (('CR9', True, 1, 4, 0, 2), 'R49'): -0.5, (('CR11', True, 1, 4, 0, 2), 'R26'): 5.125, (('CR21', False, 1, 4, 0, 3), 'R32'): 5.125, (('ADB1', True, 0, 4, 0, 3), 'R34'): -0.5, (('HB', True, 0, 4, 0, 3), 'R24'): -0.5, (('ADB', True, 0, 4, 0, 3), 'R25'): -0.5, (('CR11', True, 0, 4, 0, 3), 'R49'): -0.5, (('CR9', True, 0, 4, 0, 3), 'R48'): -0.5, (('CR7', True, 0, 4, 0, 3), 'R48'): -0.5, (('CR9', True, 0, 4, 0, 3), 'R49'): -0.5, (('CR11', True, 0, 4, 0, 3), 'R26'): 5.11375, (('CR23', False, 0, 4, 0, 4), 'R76'): -0.012500000000000011, (('AB', False, 0, 4, 0, 4), 'R35'): -0.5, (('HP', False, 0, 4, 0, 4), 'R80'): 5.11375, (('CR11', False, 0, 3, 1, 4), 'R25'): -0.75, (('ADB', False, 0, 3, 1, 4), 'R25'): -0.575, (('HG', True, 0, 2, 1, 4), 'R38'): -0.5, (('CR27', True, 0, 2, 1, 4), 'R38'): -0.5, (('HG', True, 0, 2, 1, 4), 'R36'): -0.5, (('SB', True, 0, 2, 1, 4), 'R39'): -0.5, (('CR27', True, 0, 2, 1, 4), 'R39'): -0.5, (('SB', True, 0, 2, 1, 4), 'R40'): 7.257949609375, (('AB', False, 0, 0, 4, 4), 'R75'): 250.0, (('ADB', True, 4, 3, 0, 0), 'R1'): -0.825, (('CR1', True, 4, 3, 0, 0), 'R5'): -0.825, (('MG', True, 4, 3, 0, 0), 'R5'): -0.8362499999999999, (('CR1', True, 4, 3, 0, 0), 'R1'): -0.7959375, (('CR11', True, 4, 3, 0, 0), 'R25'): -0.575, (('NB', True, 4, 3, 0, 0), 'R33'): -0.539375, (('AB', False, 4, 3, 1, 0), 'R40'): -0.5, (('SB', False, 4, 3, 1, 0), 'R39'): -0.5, (('CR27', False, 4, 3, 1, 0), 'R38'): -0.5, (('HG', False, 4, 3, 1, 0), 'R23'): -0.012500000000000011, (('HP', False, 4, 3, 1, 0), 'R23'): -0.5, (('HG', False, 4, 3, 1, 0), 'R38'): -0.5, (('CR27', False, 4, 3, 1, 0), 'R39'): -0.5, (('SB', False, 4, 3, 1, 0), 'R40'): -0.5, (('AB', False, 4, 3, 1, 0), 'R71'): -0.5, (('DCR', False, 4, 3, 1, 0), 'R30'): -0.5, (('CR21', False, 4, 3, 1, 0), 'R29'): 3.25, (('NB', True, 3, 3, 1, 0), 'R33'): -0.5, (('ADB1', True, 3, 3, 1, 0), 'R33'): -0.5, (('NB', True, 3, 3, 1, 0), 'R29'): -0.5, (('CR21', True, 3, 3, 1, 0), 'R29'): -0.5, (('NB', True, 3, 3, 1, 0), 'R32'): -0.5, (('CR21', True, 3, 3, 1, 0), 'R32'): -0.5, (('NB', True, 3, 3, 1, 0), 'R79'): -0.5, (('CR23', True, 3, 3, 1, 0), 'R79'): -0.575, (('OSB', False, 3, 3, 1, 1), 'R26'): -0.5, (('CR11', False, 3, 3, 1, 1), 'R49'): -0.5, (('CR9', False, 3, 3, 1, 1), 'R49'): -0.5, (('CR11', False, 3, 3, 1, 1), 'R26'): -0.5, (('OSB', False, 3, 3, 1, 1), 'R27'): 3.25, (('NB', True, 2, 3, 1, 1), 'R33'): -0.5, (('ADB1', True, 2, 3, 1, 1), 'R33'): -0.5, (('NB', True, 2, 3, 1, 1), 'R29'): -0.5, (('CR21', True, 2, 3, 1, 1), 'R29'): -0.5, (('NB', True, 2, 3, 1, 1), 'R32'): -0.5, (('CR21', True, 2, 3, 1, 1), 'R32'): -0.5, (('NB', True, 2, 3, 1, 1), 'R79'): -0.5, (('CR23', True, 2, 3, 1, 1), 'R79'): -0.575, (('OSB', False, 2, 3, 1, 2), 'R26'): -0.5, (('CR11', False, 2, 3, 1, 2), 'R49'): -0.5, (('CR9', False, 2, 3, 1, 2), 'R49'): -0.5, (('CR11', False, 2, 3, 1, 2), 'R26'): -0.5, (('OSB', False, 2, 3, 1, 2), 'R27'): 3.25, (('NB', True, 1, 3, 1, 2), 'R33'): -0.5, (('ADB1', True, 1, 3, 1, 2), 'R33'): -0.5, (('NB', True, 1, 3, 1, 2), 'R29'): -0.5, (('CR21', True, 1, 3, 1, 2), 'R29'): -0.5, (('NB', True, 1, 3, 1, 2), 'R32'): -0.5, (('CR21', True, 1, 3, 1, 2), 'R32'): -0.5, (('NB', True, 1, 3, 1, 2), 'R79'): -0.5, (('CR23', True, 1, 3, 1, 2), 'R79'): -0.575, (('OSB', False, 1, 3, 1, 3), 'R26'): -0.5, (('CR11', False, 1, 3, 1, 3), 'R49'): -0.5, (('CR9', False, 1, 3, 1, 3), 'R49'): -0.5, (('CR11', False, 1, 3, 1, 3), 'R26'): -0.5, (('OSB', False, 1, 3, 1, 3), 'R27'): 3.25, (('NB', True, 0, 3, 1, 3), 'R33'): -0.5, (('ADB1', True, 0, 3, 1, 3), 'R33'): -0.5, (('NB', True, 0, 3, 1, 3), 'R29'): -0.5, (('CR21', True, 0, 3, 1, 3), 'R29'): -0.5, (('NB', True, 0, 3, 1, 3), 'R32'): -0.5, (('CR21', True, 0, 3, 1, 3), 'R32'): -0.5, (('NB', True, 0, 3, 1, 3), 'R79'): -0.5, (('CR23', True, 0, 3, 1, 3), 'R79'): -0.575, (('ADB', False, 0, 3, 1, 4), 'R24'): 7.163705910156249, (('CR7', True, 4, 3, 0, 0), 'R44'): 5.125, (('CR21', False, 4, 3, 0, 1), 'R32'): 5.125, (('ADB1', True, 3, 3, 0, 1), 'R34'): -0.5, (('HB', True, 3, 3, 0, 1), 'R24'): -0.5, (('ADB', True, 3, 3, 0, 1), 'R25'): -0.5, (('CR11', True, 3, 3, 0, 1), 'R49'): -0.5, (('CR9', True, 3, 3, 0, 1), 'R48'): -0.5, (('CR7', True, 3, 3, 0, 1), 'R48'): -0.5, (('CR9', True, 3, 3, 0, 1), 'R49'): -0.5, (('CR11', True, 3, 3, 0, 1), 'R26'): 5.125, (('CR21', False, 3, 3, 0, 2), 'R32'): 5.125, (('ADB1', True, 2, 3, 0, 2), 'R34'): -0.5, (('HB', True, 2, 3, 0, 2), 'R24'): -0.5, (('ADB', True, 2, 3, 0, 2), 'R25'): -0.5, (('CR11', True, 2, 3, 0, 2), 'R49'): -0.5, (('CR9', True, 2, 3, 0, 2), 'R48'): -0.5, (('CR7', True, 2, 3, 0, 2), 'R48'): -0.5, (('CR9', True, 2, 3, 0, 2), 'R49'): -0.5, (('CR11', True, 2, 3, 0, 2), 'R26'): 5.125, (('CR21', False, 2, 3, 0, 3), 'R32'): 5.125, (('ADB1', True, 1, 3, 0, 3), 'R34'): -0.5, (('HB', True, 1, 3, 0, 3), 'R24'): -0.5, (('ADB', True, 1, 3, 0, 3), 'R25'): -0.5, (('CR11', True, 1, 3, 0, 3), 'R49'): -0.5, (('CR9', True, 1, 3, 0, 3), 'R48'): -0.5, (('CR7', True, 1, 3, 0, 3), 'R48'): -0.5, (('CR9', True, 1, 3, 0, 3), 'R49'): -0.5, (('CR11', True, 1, 3, 0, 3), 'R26'): 5.125, (('CR21', False, 1, 3, 0, 4), 'R32'): 5.11375, (('DCR', True, 0, 3, 0, 4), 'R72'): -0.5, (('CR24', True, 0, 3, 0, 4), 'R72'): -0.012500000000000011, (('CR23', True, 0, 3, 0, 4), 'R76'): 6.961227343749999, (('CR11', False, 0, 2, 2, 4), 'R25'): -0.75, (('ADB', False, 0, 2, 2, 4), 'R25'): -0.575, (('CR11', False, 0, 1, 3, 4), 'R25'): -0.75, (('ADB', False, 0, 1, 3, 4), 'R25'): -0.575, (('AB', False, 4, 3, 1, 0), 'R74'): -0.5, (('CR24', False, 4, 3, 1, 0), 'R72'): -0.5, (('DCR', False, 4, 3, 1, 0), 'R71'): -0.5, (('AB', False, 4, 3, 1, 0), 'R73'): -0.5, (('CR24', False, 4, 3, 1, 0), 'R74'): -0.5, (('AB', False, 4, 3, 1, 0), 'R75'): -0.5, (('CR23', False, 4, 3, 1, 0), 'R75'): -0.575, (('CR23', False, 4, 3, 1, 0), 'R76'): -0.575, (('HB', True, 4, 2, 1, 0), 'R80'): -0.75, (('HP', True, 4, 2, 1, 0), 'R80'): -0.5, (('HB', True, 4, 2, 1, 0), 'R78'): 15.384545888488308, (('AB', True, 4, 2, 1, 0), 'drop'): 54.6151529616277, (('AB', False, 4, 2, 2, 0), 'R76'): -0.75, (('CR23', False, 4, 2, 2, 0), 'R79'): -0.5, (('NB', False, 4, 2, 2, 0), 'take'): 37.5, (('NB', True, 3, 2, 2, 0), 'R27'): 3.0, (('OSB', True, 3, 2, 2, 0), 'drop'): 37.5, (('OSB', False, 3, 2, 2, 1), 'R44'): -0.5, (('CR7', False, 3, 2, 2, 1), 'R48'): -0.5, (('CR9', False, 3, 2, 2, 1), 'R48'): -0.5, (('CR7', False, 3, 2, 2, 1), 'R44'): -0.5, (('OSB', False, 3, 2, 2, 1), 'R50'): -0.5, (('CR21', False, 3, 2, 2, 1), 'R29'): -0.5, (('NB', False, 3, 2, 2, 1), 'take'): 37.5, (('NB', True, 2, 2, 2, 1), 'R27'): 3.0, (('OSB', True, 2, 2, 2, 1), 'drop'): 37.5, (('OSB', False, 2, 2, 2, 2), 'R44'): -0.5, (('CR7', False, 2, 2, 2, 2), 'R48'): -0.5, (('CR9', False, 2, 2, 2, 2), 'R48'): -0.5, (('CR7', False, 2, 2, 2, 2), 'R44'): -0.5, (('OSB', False, 2, 2, 2, 2), 'R50'): -0.5, (('CR21', False, 2, 2, 2, 2), 'R29'): -0.5, (('NB', False, 2, 2, 2, 2), 'take'): 37.5, (('NB', True, 1, 2, 2, 2), 'R27'): 3.0, (('OSB', True, 1, 2, 2, 2), 'drop'): 37.5, (('OSB', False, 1, 2, 2, 3), 'R44'): -0.5, (('CR7', False, 1, 2, 2, 3), 'R48'): -0.5, (('CR9', False, 1, 2, 2, 3), 'R48'): -0.5, (('CR7', False, 1, 2, 2, 3), 'R44'): -0.5, (('OSB', False, 1, 2, 2, 3), 'R50'): -0.5, (('CR21', False, 1, 2, 2, 3), 'R29'): -0.5, (('NB', False, 1, 2, 2, 3), 'take'): 37.5, (('NB', True, 0, 2, 2, 3), 'R27'): 2.983125, (('OSB', True, 0, 2, 2, 3), 'drop'): 37.32319640625, (('ADB', False, 0, 2, 2, 4), 'R24'): 7.497706610839843, (('ADB', True, 4, 2, 1, 0), 'R24'): -0.575, (('ADB1', True, 4, 2, 1, 0), 'R34'): -0.575, (('HP', True, 4, 2, 1, 0), 'R23'): -0.5, (('HG', True, 4, 2, 1, 0), 'R23'): -0.5, (('HP', True, 4, 2, 1, 0), 'R35'): 3.25, (('AB', False, 4, 2, 2, 0), 'R78'): 15.383843205425674, (('HB', False, 4, 2, 2, 0), 'take'): 54.61281068475225, (('HB', True, 4, 1, 2, 0), 'R24'): -0.75, (('ADB', True, 4, 1, 2, 0), 'R25'): -0.5, (('CR11', True, 4, 1, 2, 0), 'R49'): -0.5, (('CR9', True, 4, 1, 2, 0), 'R48'): -0.5, (('CR7', True, 4, 1, 2, 0), 'R48'): -0.5, (('CR9', True, 4, 1, 2, 0), 'R49'): -0.5, (('CR11', True, 4, 1, 2, 0), 'R26'): -0.5, (('OSB', True, 4, 1, 2, 0), 'drop'): 37.5, (('OSB', False, 4, 1, 2, 1), 'R44'): -0.5, (('CR7', False, 4, 1, 2, 1), 'R48'): -0.5, (('CR9', False, 4, 1, 2, 1), 'R48'): -0.5, (('CR7', False, 4, 1, 2, 1), 'R44'): -0.5, (('OSB', False, 4, 1, 2, 1), 'R50'): -0.5, (('CR21', False, 4, 1, 2, 1), 'R29'): -0.5, (('NB', False, 4, 1, 2, 1), 'take'): 37.5, (('NB', True, 3, 1, 2, 1), 'R27'): 3.0, (('OSB', True, 3, 1, 2, 1), 'drop'): 37.5, (('OSB', False, 3, 1, 2, 2), 'R44'): -0.5, (('CR7', False, 3, 1, 2, 2), 'R48'): -0.5, (('CR9', False, 3, 1, 2, 2), 'R48'): -0.5, (('CR7', False, 3, 1, 2, 2), 'R44'): -0.5, (('OSB', False, 3, 1, 2, 2), 'R50'): -0.5, (('CR21', False, 3, 1, 2, 2), 'R29'): -0.5, (('NB', False, 3, 1, 2, 2), 'take'): 37.5, (('NB', True, 2, 1, 2, 2), 'R27'): 3.0, (('OSB', True, 2, 1, 2, 2), 'drop'): 37.5, (('OSB', False, 2, 1, 2, 3), 'R44'): -0.5, (('CR7', False, 2, 1, 2, 3), 'R48'): -0.5, (('CR9', False, 2, 1, 2, 3), 'R48'): -0.5, (('CR7', False, 2, 1, 2, 3), 'R44'): -0.5, (('OSB', False, 2, 1, 2, 3), 'R50'): -0.5, (('CR21', False, 2, 1, 2, 3), 'R29'): -0.5, (('NB', False, 2, 1, 2, 3), 'take'): 37.5, (('NB', True, 1, 1, 2, 3), 'R27'): 3.0, (('OSB', True, 1, 1, 2, 3), 'drop'): 37.5, (('OSB', False, 1, 1, 2, 4), 'R44'): -0.5, (('CR7', False, 1, 1, 2, 4), 'R48'): -0.5, (('CR9', False, 1, 1, 2, 4), 'R48'): -0.5, (('CR7', False, 1, 1, 2, 4), 'R44'): -0.5, (('OSB', False, 1, 1, 2, 4), 'R50'): -0.5, (('CR21', False, 1, 1, 2, 4), 'R29'): -0.5, (('NB', False, 1, 1, 2, 4), 'take'): 37.4592, (('AB', False, 4, 2, 2, 0), 'R35'): -0.5, (('HP', False, 4, 2, 2, 0), 'R80'): 6.75, (('HB', True, 4, 1, 2, 0), 'R34'): -0.75, (('ADB1', True, 4, 1, 2, 0), 'R33'): -0.5, (('NB', True, 4, 1, 2, 0), 'R27'): 3.25, (('OSB', False, 4, 1, 2, 1), 'R26'): -0.5, (('CR11', False, 4, 1, 2, 1), 'R49'): -0.5, (('CR9', False, 4, 1, 2, 1), 'R49'): -0.5, (('CR11', False, 4, 1, 2, 1), 'R26'): -0.5, (('OSB', False, 4, 1, 2, 1), 'R27'): 3.25, (('NB', True, 3, 1, 2, 1), 'R33'): -0.5, (('ADB1', True, 3, 1, 2, 1), 'R33'): -0.5, (('NB', True, 3, 1, 2, 1), 'R29'): -0.5, (('CR21', True, 3, 1, 2, 1), 'R29'): -0.5, (('NB', True, 3, 1, 2, 1), 'R32'): -0.5, (('CR21', True, 3, 1, 2, 1), 'R32'): -0.5, (('NB', True, 3, 1, 2, 1), 'R79'): -0.5, (('CR23', True, 3, 1, 2, 1), 'R79'): -0.575, (('OSB', False, 3, 1, 2, 2), 'R26'): -0.5, (('CR11', False, 3, 1, 2, 2), 'R49'): -0.5, (('CR9', False, 3, 1, 2, 2), 'R49'): -0.5, (('CR11', False, 3, 1, 2, 2), 'R26'): -0.5, (('OSB', False, 3, 1, 2, 2), 'R27'): 3.25, (('NB', True, 2, 1, 2, 2), 'R33'): -0.5, (('ADB1', True, 2, 1, 2, 2), 'R33'): -0.5, (('NB', True, 2, 1, 2, 2), 'R29'): -0.5, (('CR21', True, 2, 1, 2, 2), 'R29'): -0.5, (('NB', True, 2, 1, 2, 2), 'R32'): -0.5, (('CR21', True, 2, 1, 2, 2), 'R32'): -0.5, (('NB', True, 2, 1, 2, 2), 'R79'): -0.5, (('CR23', True, 2, 1, 2, 2), 'R79'): -0.575, (('OSB', False, 2, 1, 2, 3), 'R26'): -0.5, (('CR11', False, 2, 1, 2, 3), 'R49'): -0.5, (('CR9', False, 2, 1, 2, 3), 'R49'): -0.5, (('CR11', False, 2, 1, 2, 3), 'R26'): -0.5, (('OSB', False, 2, 1, 2, 3), 'R27'): 3.25, (('NB', True, 1, 1, 2, 3), 'R33'): -0.5, (('ADB1', True, 1, 1, 2, 3), 'R33'): -0.5, (('NB', True, 1, 1, 2, 3), 'R29'): -0.5, (('CR21', True, 1, 1, 2, 3), 'R29'): -0.5, (('NB', True, 1, 1, 2, 3), 'R32'): -0.5, (('CR21', True, 1, 1, 2, 3), 'R32'): -0.5, (('NB', True, 1, 1, 2, 3), 'R79'): -0.5, (('CR23', True, 1, 1, 2, 3), 'R79'): -0.575, (('OSB', False, 1, 1, 2, 4), 'R26'): -0.5, (('CR11', False, 1, 1, 2, 4), 'R49'): -0.5, (('CR9', False, 1, 1, 2, 4), 'R49'): -0.5, (('CR11', False, 1, 1, 2, 4), 'R26'): -0.5, (('OSB', False, 1, 1, 2, 4), 'R27'): 3.233125, (('AB', False, 4, 2, 2, 0), 'R40'): -0.5, (('SB', False, 4, 2, 2, 0), 'R39'): -0.5, (('CR27', False, 4, 2, 2, 0), 'R38'): -0.5, (('HG', False, 4, 2, 2, 0), 'R23'): -0.012500000000000011, (('HB', True, 4, 1, 2, 0), 'R80'): -0.75, (('HP', True, 4, 1, 2, 0), 'R80'): -0.5, (('HB', True, 4, 1, 2, 0), 'R78'): 15.376035615840845, (('AB', True, 4, 1, 2, 0), 'drop'): 54.58678538613616, (('AB', False, 4, 1, 3, 0), 'R76'): -0.75, (('CR23', False, 4, 1, 3, 0), 'R79'): -0.5, (('NB', False, 4, 1, 3, 0), 'take'): 37.5, (('NB', True, 3, 1, 3, 0), 'R27'): 3.0, (('OSB', True, 3, 1, 3, 0), 'drop'): 37.5, (('OSB', False, 3, 1, 3, 1), 'R44'): -0.5, (('CR7', False, 3, 1, 3, 1), 'R48'): -0.5, (('CR9', False, 3, 1, 3, 1), 'R48'): -0.5, (('CR7', False, 3, 1, 3, 1), 'R44'): -0.5, (('OSB', False, 3, 1, 3, 1), 'R50'): -0.5, (('CR21', False, 3, 1, 3, 1), 'R29'): -0.5, (('NB', False, 3, 1, 3, 1), 'take'): 37.5, (('NB', True, 2, 1, 3, 1), 'R27'): 3.0, (('OSB', True, 2, 1, 3, 1), 'drop'): 37.5, (('OSB', False, 2, 1, 3, 2), 'R44'): -0.5, (('CR7', False, 2, 1, 3, 2), 'R48'): -0.5, (('CR9', False, 2, 1, 3, 2), 'R48'): -0.5, (('CR7', False, 2, 1, 3, 2), 'R44'): -0.5, (('OSB', False, 2, 1, 3, 2), 'R50'): -0.5, (('CR21', False, 2, 1, 3, 2), 'R29'): -0.5, (('NB', False, 2, 1, 3, 2), 'take'): 37.5, (('NB', True, 1, 1, 3, 2), 'R27'): 3.0, (('OSB', True, 1, 1, 3, 2), 'drop'): 37.5, (('OSB', False, 1, 1, 3, 3), 'R44'): -0.5, (('CR7', False, 1, 1, 3, 3), 'R48'): -0.5, (('CR9', False, 1, 1, 3, 3), 'R48'): -0.5, (('CR7', False, 1, 1, 3, 3), 'R44'): -0.5, (('OSB', False, 1, 1, 3, 3), 'R50'): -0.5, (('CR21', False, 1, 1, 3, 3), 'R29'): -0.5, (('NB', False, 1, 1, 3, 3), 'take'): 37.5, (('NB', True, 0, 1, 3, 3), 'R27'): 2.983125, (('OSB', True, 0, 1, 3, 3), 'drop'): 37.32319640625, (('ADB', False, 0, 1, 3, 4), 'R24'): 8.696675415039062, (('AB', False, 4, 2, 2, 0), 'R71'): -0.5, (('DCR', False, 4, 2, 2, 0), 'R30'): -0.5, (('CR21', False, 4, 2, 2, 0), 'R29'): 3.25, (('NB', True, 3, 2, 2, 0), 'R33'): -0.5, (('ADB1', True, 3, 2, 2, 0), 'R33'): -0.5, (('NB', True, 3, 2, 2, 0), 'R29'): -0.5, (('CR21', True, 3, 2, 2, 0), 'R29'): -0.5, (('NB', True, 3, 2, 2, 0), 'R32'): -0.5, (('CR21', True, 3, 2, 2, 0), 'R32'): -0.5, (('NB', True, 3, 2, 2, 0), 'R79'): -0.5, (('CR23', True, 3, 2, 2, 0), 'R79'): -0.575, (('OSB', False, 3, 2, 2, 1), 'R26'): -0.5, (('CR11', False, 3, 2, 2, 1), 'R49'): -0.5, (('CR9', False, 3, 2, 2, 1), 'R49'): -0.5, (('CR11', False, 3, 2, 2, 1), 'R26'): -0.5, (('OSB', False, 3, 2, 2, 1), 'R27'): 3.25, (('NB', True, 2, 2, 2, 1), 'R33'): -0.5, (('ADB1', True, 2, 2, 2, 1), 'R33'): -0.5, (('NB', True, 2, 2, 2, 1), 'R29'): -0.5, (('CR21', True, 2, 2, 2, 1), 'R29'): -0.5, (('NB', True, 2, 2, 2, 1), 'R32'): -0.5, (('CR21', True, 2, 2, 2, 1), 'R32'): -0.5, (('NB', True, 2, 2, 2, 1), 'R79'): -0.5, (('CR23', True, 2, 2, 2, 1), 'R79'): -0.575, (('OSB', False, 2, 2, 2, 2), 'R26'): -0.5, (('CR11', False, 2, 2, 2, 2), 'R49'): -0.5, (('CR9', False, 2, 2, 2, 2), 'R49'): -0.5, (('CR11', False, 2, 2, 2, 2), 'R26'): -0.5, (('OSB', False, 2, 2, 2, 2), 'R27'): 3.25, (('NB', True, 1, 2, 2, 2), 'R33'): -0.5, (('ADB1', True, 1, 2, 2, 2), 'R33'): -0.5, (('NB', True, 1, 2, 2, 2), 'R29'): -0.5, (('CR21', True, 1, 2, 2, 2), 'R29'): -0.5, (('NB', True, 1, 2, 2, 2), 'R32'): -0.5, (('CR21', True, 1, 2, 2, 2), 'R32'): -0.5, (('NB', True, 1, 2, 2, 2), 'R79'): -0.5, (('CR23', True, 1, 2, 2, 2), 'R79'): -0.575, (('OSB', False, 1, 2, 2, 3), 'R26'): -0.5, (('CR11', False, 1, 2, 2, 3), 'R49'): -0.5, (('CR9', False, 1, 2, 2, 3), 'R49'): -0.5, (('CR11', False, 1, 2, 2, 3), 'R26'): -0.5, (('OSB', False, 1, 2, 2, 3), 'R27'): 3.25, (('NB', True, 0, 2, 2, 3), 'R33'): -0.5, (('ADB1', True, 0, 2, 2, 3), 'R33'): -0.5, (('NB', True, 0, 2, 2, 3), 'R29'): -0.5, (('CR21', True, 0, 2, 2, 3), 'R29'): -0.5, (('NB', True, 0, 2, 2, 3), 'R32'): -0.5, (('CR21', True, 0, 2, 2, 3), 'R32'): -0.5, (('NB', True, 0, 2, 2, 3), 'R79'): -0.5, (('CR23', True, 0, 2, 2, 3), 'R79'): -0.575, (('AB', False, 4, 2, 2, 0), 'R74'): -0.5, (('CR24', False, 4, 2, 2, 0), 'R72'): -0.5, (('DCR', False, 4, 2, 2, 0), 'R71'): -0.5, (('AB', False, 4, 2, 2, 0), 'R73'): -0.5, (('CR24', False, 4, 2, 2, 0), 'R74'): -0.5, (('AB', False, 4, 2, 2, 0), 'R75'): -0.5, (('CR23', False, 4, 2, 2, 0), 'R75'): -0.575, (('CR23', False, 4, 2, 2, 0), 'R76'): -0.575, (('ADB', True, 4, 1, 2, 0), 'R24'): -0.575, (('ADB1', True, 4, 1, 2, 0), 'R34'): -0.575, (('HP', True, 4, 1, 2, 0), 'R23'): -0.5, (('HG', True, 4, 1, 2, 0), 'R23'): -0.5, (('HP', True, 4, 1, 2, 0), 'R35'): 3.25, (('AB', False, 4, 1, 3, 0), 'R78'): 15.28928462045386, (('HB', False, 4, 1, 3, 0), 'take'): 54.29761540151287, (('HB', True, 4, 0, 3, 0), 'R24'): -0.75, (('ADB', True, 4, 0, 3, 0), 'R25'): -0.5, (('CR11', True, 4, 0, 3, 0), 'R49'): -0.5, (('CR9', True, 4, 0, 3, 0), 'R48'): -0.5, (('CR7', True, 4, 0, 3, 0), 'R48'): -0.5, (('CR9', True, 4, 0, 3, 0), 'R49'): -0.5, (('CR11', True, 4, 0, 3, 0), 'R26'): -0.5, (('OSB', True, 4, 0, 3, 0), 'drop'): 37.5, (('OSB', False, 4, 0, 3, 1), 'R44'): -0.5, (('CR7', False, 4, 0, 3, 1), 'R48'): -0.5, (('CR9', False, 4, 0, 3, 1), 'R48'): -0.5, (('CR7', False, 4, 0, 3, 1), 'R44'): -0.5, (('OSB', False, 4, 0, 3, 1), 'R50'): -0.5, (('CR21', False, 4, 0, 3, 1), 'R29'): -0.5, (('NB', False, 4, 0, 3, 1), 'take'): 37.5, (('NB', True, 3, 0, 3, 1), 'R27'): 3.0, (('OSB', True, 3, 0, 3, 1), 'drop'): 37.5, (('OSB', False, 3, 0, 3, 2), 'R44'): -0.5, (('CR7', False, 3, 0, 3, 2), 'R48'): -0.5, (('CR9', False, 3, 0, 3, 2), 'R48'): -0.5, (('CR7', False, 3, 0, 3, 2), 'R44'): -0.5, (('OSB', False, 3, 0, 3, 2), 'R50'): -0.5, (('CR21', False, 3, 0, 3, 2), 'R29'): -0.5, (('NB', False, 3, 0, 3, 2), 'take'): 37.5, (('NB', True, 2, 0, 3, 2), 'R27'): 3.0, (('OSB', True, 2, 0, 3, 2), 'drop'): 37.5, (('OSB', False, 2, 0, 3, 3), 'R44'): -0.5, (('CR7', False, 2, 0, 3, 3), 'R48'): -0.5, (('CR9', False, 2, 0, 3, 3), 'R48'): -0.5, (('CR7', False, 2, 0, 3, 3), 'R44'): -0.5, (('OSB', False, 2, 0, 3, 3), 'R50'): -0.5, (('CR21', False, 2, 0, 3, 3), 'R29'): -0.5, (('NB', False, 2, 0, 3, 3), 'take'): 37.5, (('NB', True, 1, 0, 3, 3), 'R27'): 3.0, (('OSB', True, 1, 0, 3, 3), 'drop'): 37.5, (('OSB', False, 1, 0, 3, 4), 'R44'): -0.5, (('CR7', False, 1, 0, 3, 4), 'R48'): -0.5, (('CR9', False, 1, 0, 3, 4), 'R48'): -0.5, (('CR7', False, 1, 0, 3, 4), 'R44'): -0.5, (('OSB', False, 1, 0, 3, 4), 'R50'): -0.5, (('CR21', False, 1, 0, 3, 4), 'R29'): -0.5, (('NB', False, 1, 0, 3, 4), 'take'): 37.471833984375, (('AB', False, 4, 1, 3, 0), 'R35'): -0.5, (('HP', False, 4, 1, 3, 0), 'R80'): 6.75, (('HB', True, 4, 0, 3, 0), 'R34'): -0.75, (('ADB1', True, 4, 0, 3, 0), 'R33'): -0.5, (('NB', True, 4, 0, 3, 0), 'R27'): 3.25, (('OSB', False, 4, 0, 3, 1), 'R26'): -0.5, (('CR11', False, 4, 0, 3, 1), 'R49'): -0.5, (('CR9', False, 4, 0, 3, 1), 'R49'): -0.5, (('CR11', False, 4, 0, 3, 1), 'R26'): -0.5, (('OSB', False, 4, 0, 3, 1), 'R27'): 3.25, (('NB', True, 3, 0, 3, 1), 'R33'): -0.5, (('ADB1', True, 3, 0, 3, 1), 'R33'): -0.5, (('NB', True, 3, 0, 3, 1), 'R29'): -0.5, (('CR21', True, 3, 0, 3, 1), 'R29'): -0.5, (('NB', True, 3, 0, 3, 1), 'R32'): -0.5, (('CR21', True, 3, 0, 3, 1), 'R32'): -0.5, (('NB', True, 3, 0, 3, 1), 'R79'): -0.5, (('CR23', True, 3, 0, 3, 1), 'R79'): -0.575, (('OSB', False, 3, 0, 3, 2), 'R26'): -0.5, (('CR11', False, 3, 0, 3, 2), 'R49'): -0.5, (('CR9', False, 3, 0, 3, 2), 'R49'): -0.5, (('CR11', False, 3, 0, 3, 2), 'R26'): -0.5, (('OSB', False, 3, 0, 3, 2), 'R27'): 3.25, (('NB', True, 2, 0, 3, 2), 'R33'): -0.5, (('ADB1', True, 2, 0, 3, 2), 'R33'): -0.5, (('NB', True, 2, 0, 3, 2), 'R29'): -0.5, (('CR21', True, 2, 0, 3, 2), 'R29'): -0.5, (('NB', True, 2, 0, 3, 2), 'R32'): -0.5, (('CR21', True, 2, 0, 3, 2), 'R32'): -0.5, (('NB', True, 2, 0, 3, 2), 'R79'): -0.5, (('CR23', True, 2, 0, 3, 2), 'R79'): -0.575, (('OSB', False, 2, 0, 3, 3), 'R26'): -0.5, (('CR11', False, 2, 0, 3, 3), 'R49'): -0.5, (('CR9', False, 2, 0, 3, 3), 'R49'): -0.5, (('CR11', False, 2, 0, 3, 3), 'R26'): -0.5, (('OSB', False, 2, 0, 3, 3), 'R27'): 3.25, (('NB', True, 1, 0, 3, 3), 'R33'): -0.5, (('ADB1', True, 1, 0, 3, 3), 'R33'): -0.5, (('NB', True, 1, 0, 3, 3), 'R29'): -0.5, (('CR21', True, 1, 0, 3, 3), 'R29'): -0.5, (('NB', True, 1, 0, 3, 3), 'R32'): -0.5, (('CR21', True, 1, 0, 3, 3), 'R32'): -0.5, (('NB', True, 1, 0, 3, 3), 'R79'): -0.5, (('CR23', True, 1, 0, 3, 3), 'R79'): -0.575, (('OSB', False, 1, 0, 3, 4), 'R26'): -0.5, (('CR11', False, 1, 0, 3, 4), 'R49'): -0.5, (('CR9', False, 1, 0, 3, 4), 'R49'): -0.5, (('CR11', False, 1, 0, 3, 4), 'R26'): -0.5, (('OSB', False, 1, 0, 3, 4), 'R27'): 3.238760546875, (('AB', False, 4, 1, 3, 0), 'R40'): -0.5, (('SB', False, 4, 1, 3, 0), 'R39'): -0.5, (('CR27', False, 4, 1, 3, 0), 'R38'): -0.5, (('HG', False, 4, 1, 3, 0), 'R23'): -0.012500000000000011, (('HB', True, 4, 0, 3, 0), 'R80'): -0.75, (('HP', True, 4, 0, 3, 0), 'R80'): -0.5, (('HB', True, 4, 0, 3, 0), 'R78'): 14.325384671709593, (('AB', True, 4, 0, 3, 0), 'drop'): 51.08461557236531, (('AB', False, 4, 0, 4, 0), 'R76'): 3.615385241217713, (('CR23', False, 4, 0, 4, 0), 'R79'): 15.384617470725711, (('NB', False, 4, 0, 4, 0), 'take'): 54.6153915690857, (('NB', True, 3, 0, 4, 0), 'R27'): 15.384638563619, (('OSB', True, 3, 0, 4, 0), 'drop'): 54.61546187873, (('OSB', False, 3, 0, 4, 1), 'R44'): -0.5, (('CR7', False, 3, 0, 4, 1), 'R48'): -0.5, (('CR9', False, 3, 0, 4, 1), 'R48'): -0.5, (('CR7', False, 3, 0, 4, 1), 'R44'): -0.5, (('OSB', False, 3, 0, 4, 1), 'R50'): -0.5, (('CR21', False, 3, 0, 4, 1), 'R29'): -0.5, (('NB', False, 3, 0, 4, 1), 'take'): 54.616243096999995, (('NB', True, 2, 0, 4, 1), 'R27'): 15.387476989999996, (('OSB', True, 2, 0, 4, 1), 'drop'): 54.62492329999999, (('OSB', False, 2, 0, 4, 2), 'R44'): -0.5, (('CR7', False, 2, 0, 4, 2), 'R48'): -0.5, (('CR9', False, 2, 0, 4, 2), 'R48'): -0.5, (('CR7', False, 2, 0, 4, 2), 'R44'): -0.5, (('OSB', False, 2, 0, 4, 2), 'R50'): -0.5, (('CR21', False, 2, 0, 4, 2), 'R29'): -0.5, (('NB', False, 2, 0, 4, 2), 'take'): 54.72136999999999, (('NB', True, 1, 0, 4, 2), 'R27'): 15.737899999999996, (('OSB', True, 1, 0, 4, 2), 'drop'): 55.79299999999999, (('OSB', False, 1, 0, 4, 3), 'R44'): -0.5, (('CR7', False, 1, 0, 4, 3), 'R48'): -0.5, (('CR9', False, 1, 0, 4, 3), 'R48'): -0.5, (('CR7', False, 1, 0, 4, 3), 'R44'): -0.5, (('OSB', False, 1, 0, 4, 3), 'R50'): -0.5, (('CR21', False, 1, 0, 4, 3), 'R29'): -0.5, (('NB', False, 1, 0, 4, 3), 'take'): 67.69999999999999, (('NB', True, 0, 0, 4, 3), 'R27'): 59.0, (('OSB', True, 0, 0, 4, 3), 'drop'): 200.0, (('OSB', False, 0, 0, 4, 4), 'R44'): 500.0, (('AB', False, 4, 1, 3, 0), 'R71'): -0.5, (('DCR', False, 4, 1, 3, 0), 'R30'): -0.5, (('CR21', False, 4, 1, 3, 0), 'R29'): 3.25, (('NB', True, 3, 1, 3, 0), 'R33'): -0.5, (('ADB1', True, 3, 1, 3, 0), 'R33'): -0.5, (('NB', True, 3, 1, 3, 0), 'R29'): -0.5, (('CR21', True, 3, 1, 3, 0), 'R29'): -0.5, (('NB', True, 3, 1, 3, 0), 'R32'): -0.5, (('CR21', True, 3, 1, 3, 0), 'R32'): -0.5, (('NB', True, 3, 1, 3, 0), 'R79'): -0.5, (('CR23', True, 3, 1, 3, 0), 'R79'): -0.575, (('OSB', False, 3, 1, 3, 1), 'R26'): -0.5, (('CR11', False, 3, 1, 3, 1), 'R49'): -0.5, (('CR9', False, 3, 1, 3, 1), 'R49'): -0.5, (('CR11', False, 3, 1, 3, 1), 'R26'): -0.5, (('OSB', False, 3, 1, 3, 1), 'R27'): 3.25, (('NB', True, 2, 1, 3, 1), 'R33'): -0.5, (('ADB1', True, 2, 1, 3, 1), 'R33'): -0.5, (('NB', True, 2, 1, 3, 1), 'R29'): -0.5, (('CR21', True, 2, 1, 3, 1), 'R29'): -0.5, (('NB', True, 2, 1, 3, 1), 'R32'): -0.5, (('CR21', True, 2, 1, 3, 1), 'R32'): -0.5, (('NB', True, 2, 1, 3, 1), 'R79'): -0.5, (('CR23', True, 2, 1, 3, 1), 'R79'): -0.575, (('OSB', False, 2, 1, 3, 2), 'R26'): -0.5, (('CR11', False, 2, 1, 3, 2), 'R49'): -0.5, (('CR9', False, 2, 1, 3, 2), 'R49'): -0.5, (('CR11', False, 2, 1, 3, 2), 'R26'): -0.5, (('OSB', False, 2, 1, 3, 2), 'R27'): 3.25, (('NB', True, 1, 1, 3, 2), 'R33'): -0.5, (('ADB1', True, 1, 1, 3, 2), 'R33'): -0.5, (('NB', True, 1, 1, 3, 2), 'R29'): -0.5, (('CR21', True, 1, 1, 3, 2), 'R29'): -0.5, (('NB', True, 1, 1, 3, 2), 'R32'): -0.5, (('CR21', True, 1, 1, 3, 2), 'R32'): -0.5, (('NB', True, 1, 1, 3, 2), 'R79'): -0.5, (('CR23', True, 1, 1, 3, 2), 'R79'): -0.575, (('OSB', False, 1, 1, 3, 3), 'R26'): -0.5, (('CR11', False, 1, 1, 3, 3), 'R49'): -0.5, (('CR9', False, 1, 1, 3, 3), 'R49'): -0.5, (('CR11', False, 1, 1, 3, 3), 'R26'): -0.5, (('OSB', False, 1, 1, 3, 3), 'R27'): 3.25, (('NB', True, 0, 1, 3, 3), 'R33'): -0.5, (('ADB1', True, 0, 1, 3, 3), 'R33'): -0.5, (('NB', True, 0, 1, 3, 3), 'R29'): -0.5, (('CR21', True, 0, 1, 3, 3), 'R29'): -0.5, (('NB', True, 0, 1, 3, 3), 'R32'): -0.5, (('CR21', True, 0, 1, 3, 3), 'R32'): -0.5, (('NB', True, 0, 1, 3, 3), 'R79'): -0.5, (('CR23', True, 0, 1, 3, 3), 'R79'): -0.575, (('AB', False, 4, 1, 3, 0), 'R74'): -0.5, (('CR24', False, 4, 1, 3, 0), 'R72'): -0.5, (('DCR', False, 4, 1, 3, 0), 'R71'): -0.5, (('AB', False, 4, 1, 3, 0), 'R73'): -0.5, (('CR24', False, 4, 1, 3, 0), 'R74'): -0.5, (('AB', False, 4, 1, 3, 0), 'R75'): -0.5, (('CR23', False, 4, 1, 3, 0), 'R75'): -0.575, (('CR23', False, 4, 1, 3, 0), 'R76'): -0.575, (('ADB', True, 4, 0, 3, 0), 'R24'): -0.575, (('ADB1', True, 4, 0, 3, 0), 'R34'): -0.575, (('HP', True, 4, 0, 3, 0), 'R23'): -0.5, (('HG', True, 4, 0, 3, 0), 'R23'): -0.5, (('HP', True, 4, 0, 3, 0), 'R35'): 3.25, (('AB', False, 4, 0, 4, 0), 'R78'): -0.75, (('HB', False, 4, 0, 4, 0), 'R24'): -0.5, (('ADB', False, 4, 0, 4, 0), 'R25'): -0.5, (('CR11', False, 4, 0, 4, 0), 'R49'): -0.5, (('CR9', False, 4, 0, 4, 0), 'R48'): -0.5, (('CR7', False, 4, 0, 4, 0), 'R48'): -0.5, (('CR9', False, 4, 0, 4, 0), 'R49'): -0.5, (('CR11', False, 4, 0, 4, 0), 'R26'): -0.5, (('OSB', False, 4, 0, 4, 0), 'R44'): -0.5, (('CR7', False, 4, 0, 4, 0), 'R44'): -0.5, (('OSB', False, 4, 0, 4, 0), 'R50'): -0.5, (('CR21', False, 4, 0, 4, 0), 'R29'): 10.5915625, (('NB', True, 3, 0, 4, 0), 'R33'): -0.5, (('ADB1', True, 3, 0, 4, 0), 'R33'): -0.5, (('NB', True, 3, 0, 4, 0), 'R29'): -0.5, (('CR21', True, 3, 0, 4, 0), 'R29'): -0.5, (('NB', True, 3, 0, 4, 0), 'R32'): -0.5, (('CR21', True, 3, 0, 4, 0), 'R32'): -0.5, (('NB', True, 3, 0, 4, 0), 'R79'): -0.5, (('CR23', True, 3, 0, 4, 0), 'R79'): -0.575, (('OSB', False, 3, 0, 4, 1), 'R26'): -0.5, (('CR11', False, 3, 0, 4, 1), 'R49'): -0.5, (('CR9', False, 3, 0, 4, 1), 'R49'): -0.5, (('CR11', False, 3, 0, 4, 1), 'R26'): -0.5, (('OSB', False, 3, 0, 4, 1), 'R27'): 15.384872929099998, (('NB', True, 2, 0, 4, 1), 'R33'): -0.5, (('ADB1', True, 2, 0, 4, 1), 'R33'): -0.5, (('NB', True, 2, 0, 4, 1), 'R29'): -0.5, (('CR21', True, 2, 0, 4, 1), 'R29'): -0.5, (('NB', True, 2, 0, 4, 1), 'R32'): -0.5, (('CR21', True, 2, 0, 4, 1), 'R32'): -0.5, (('NB', True, 2, 0, 4, 1), 'R79'): -0.5, (('CR23', True, 2, 0, 4, 1), 'R79'): -0.575, (('OSB', False, 2, 0, 4, 2), 'R26'): -0.5, (('CR11', False, 2, 0, 4, 2), 'R49'): -0.5, (('CR9', False, 2, 0, 4, 2), 'R49'): -0.5, (('CR11', False, 2, 0, 4, 2), 'R26'): -0.5, (('OSB', False, 2, 0, 4, 2), 'R27'): 15.416410999999997, (('NB', True, 1, 0, 4, 2), 'R33'): -0.5, (('ADB1', True, 1, 0, 4, 2), 'R33'): -0.5, (('NB', True, 1, 0, 4, 2), 'R29'): -0.5, (('CR21', True, 1, 0, 4, 2), 'R29'): -0.5, (('NB', True, 1, 0, 4, 2), 'R32'): -0.5, (('CR21', True, 1, 0, 4, 2), 'R32'): -0.5, (('NB', True, 1, 0, 4, 2), 'R79'): -0.5, (('CR23', True, 1, 0, 4, 2), 'R79'): -0.575, (('OSB', False, 1, 0, 4, 3), 'R26'): -0.5, (('CR11', False, 1, 0, 4, 3), 'R49'): -0.5, (('CR9', False, 1, 0, 4, 3), 'R49'): -0.5, (('CR11', False, 1, 0, 4, 3), 'R26'): -0.5, (('OSB', False, 1, 0, 4, 3), 'R27'): 19.309999999999995, (('NB', True, 0, 0, 4, 3), 'R33'): -0.5, (('ADB1', True, 0, 0, 4, 3), 'R33'): -0.5, (('NB', True, 0, 0, 4, 3), 'R29'): -0.5, (('CR21', True, 0, 0, 4, 3), 'R29'): -0.5, (('NB', True, 0, 0, 4, 3), 'R32'): -0.5, (('CR21', True, 0, 0, 4, 3), 'R32'): -0.5, (('NB', True, 0, 0, 4, 3), 'R79'): -0.5, (('CR23', True, 0, 0, 4, 3), 'R79'): -0.575, (('AB', False, 4, 0, 4, 0), 'R35'): -0.825, (('HP', False, 4, 0, 4, 0), 'R80'): -0.75, (('HB', False, 4, 0, 4, 0), 'R34'): -0.5, (('ADB1', False, 4, 0, 4, 0), 'R33'): 5.125, (('AB', False, 4, 0, 4, 0), 'R40'): -0.75, (('SB', False, 4, 0, 4, 0), 'R39'): -0.825, (('CR27', False, 4, 0, 4, 0), 'R38'): -0.825, (('HG', False, 4, 0, 4, 0), 'R23'): -0.825, (('HP', False, 4, 0, 4, 0), 'R23'): -0.825, (('HG', False, 4, 0, 4, 0), 'R38'): -0.825, (('CR27', False, 4, 0, 4, 0), 'R39'): -0.825, (('SB', False, 4, 0, 4, 0), 'R40'): -0.825, (('AB', False, 4, 0, 4, 0), 'R71'): -0.75, (('DCR', False, 4, 0, 4, 0), 'R30'): 0.6569999999999998, (('AB', False, 4, 0, 4, 0), 'R74'): -0.825, (('CR24', False, 4, 0, 4, 0), 'R72'): -0.751875, (('DCR', False, 4, 0, 4, 0), 'R71'): -0.5, (('AB', False, 4, 0, 4, 0), 'R73'): -0.825, (('CR24', False, 4, 0, 4, 0), 'R74'): -0.825, (('AB', False, 4, 0, 4, 0), 'R75'): -0.825, (('CR23', False, 4, 0, 4, 0), 'R75'): -0.575, (('CR23', False, 4, 0, 4, 0), 'R76'): -0.575, (('HB', False, 4, 0, 4, 0), 'R80'): -0.5, (('HP', False, 4, 0, 4, 0), 'R35'): -0.575, (('HB', False, 4, 0, 4, 0), 'R78'): -0.575, (('SB', False, 4, 0, 4, 0), 'R36'): -0.5, (('HG', False, 4, 0, 4, 0), 'R36'): -0.575, (('DCR', False, 4, 0, 4, 0), 'R72'): -0.5, (('CR24', False, 4, 0, 4, 0), 'R73'): -0.575}\n"
          ]
        }
      ],
      "source": [
        "#learning part:\n",
        "\n",
        "q_dict,n_dict,all_states=simulate(lambda: ZC_Agent(map_dict,500,50,0.3,3000),Int_check=True,intermediate_q_num=10, n_iterations=100 , q=q, n=n, f=lambda q, n:q)\n",
        "print(\"Learned Q values:\",q_dict)\n",
        "\n",
        "\n",
        "\n"
      ]
    },
    {
      "cell_type": "code",
      "source": [
        "#Testing part:\n",
        "\n",
        "q_dict,n_dict,all_states=simulate(lambda: ZC_Agent(map_dict,500,50,0.3,3000), n_iterations=1, q=q, n=n, verbose=True, f=lambda q, n: q)\n",
        "print(\"Visited states by the agent:\",len(all_states))  # length of all states the agent visits\n"
      ],
      "metadata": {
        "colab": {
          "base_uri": "https://localhost:8080/"
        },
        "id": "gJFQ7_y1qbtY",
        "outputId": "f7adf4b5-f77c-46f2-b9ed-dfc406717f87"
      },
      "execution_count": 31,
      "outputs": [
        {
          "output_type": "stream",
          "name": "stdout",
          "text": [
            "Visited states by the agent: 36\n"
          ]
        }
      ]
    },
    {
      "cell_type": "code",
      "execution_count": 33,
      "metadata": {
        "id": "S4R3_oiH1dsd"
      },
      "outputs": [],
      "source": [
        "filename = 'after_Greedy_learning.mp4'\n",
        "#converting the vector of images to a video \n",
        "make_video(filename, all_states,d)"
      ]
    }
  ],
  "metadata": {
    "colab": {
      "provenance": []
    },
    "kernelspec": {
      "display_name": "Python 3",
      "name": "python3"
    },
    "language_info": {
      "name": "python"
    }
  },
  "nbformat": 4,
  "nbformat_minor": 0
}